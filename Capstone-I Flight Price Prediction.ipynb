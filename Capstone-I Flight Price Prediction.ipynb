{
 "cells": [
  {
   "cell_type": "code",
   "execution_count": 1,
   "metadata": {},
   "outputs": [],
   "source": [
    "import pandas as pd\n",
    "import numpy as np\n",
    "import matplotlib.pyplot as plt\n",
    "%matplotlib inline\n",
    "import seaborn as sns"
   ]
  },
  {
   "cell_type": "code",
   "execution_count": 2,
   "metadata": {},
   "outputs": [],
   "source": [
    "df=pd.read_excel(\"Flight_Train.xlsx\")"
   ]
  },
  {
   "cell_type": "markdown",
   "metadata": {},
   "source": [
    "# Feature Engineering"
   ]
  },
  {
   "cell_type": "code",
   "execution_count": 3,
   "metadata": {},
   "outputs": [
    {
     "data": {
      "text/html": [
       "<div>\n",
       "<style scoped>\n",
       "    .dataframe tbody tr th:only-of-type {\n",
       "        vertical-align: middle;\n",
       "    }\n",
       "\n",
       "    .dataframe tbody tr th {\n",
       "        vertical-align: top;\n",
       "    }\n",
       "\n",
       "    .dataframe thead th {\n",
       "        text-align: right;\n",
       "    }\n",
       "</style>\n",
       "<table border=\"1\" class=\"dataframe\">\n",
       "  <thead>\n",
       "    <tr style=\"text-align: right;\">\n",
       "      <th></th>\n",
       "      <th>Airline</th>\n",
       "      <th>Date_of_Journey</th>\n",
       "      <th>Source</th>\n",
       "      <th>Destination</th>\n",
       "      <th>Route</th>\n",
       "      <th>Dep_Time</th>\n",
       "      <th>Arrival_Time</th>\n",
       "      <th>Duration</th>\n",
       "      <th>Total_Stops</th>\n",
       "      <th>Additional_Info</th>\n",
       "      <th>Price</th>\n",
       "    </tr>\n",
       "  </thead>\n",
       "  <tbody>\n",
       "    <tr>\n",
       "      <th>0</th>\n",
       "      <td>IndiGo</td>\n",
       "      <td>24/03/2019</td>\n",
       "      <td>Banglore</td>\n",
       "      <td>New Delhi</td>\n",
       "      <td>BLR → DEL</td>\n",
       "      <td>22:20</td>\n",
       "      <td>01:10 22 Mar</td>\n",
       "      <td>2h 50m</td>\n",
       "      <td>non-stop</td>\n",
       "      <td>No info</td>\n",
       "      <td>3897</td>\n",
       "    </tr>\n",
       "    <tr>\n",
       "      <th>1</th>\n",
       "      <td>Air India</td>\n",
       "      <td>1/05/2019</td>\n",
       "      <td>Kolkata</td>\n",
       "      <td>Banglore</td>\n",
       "      <td>CCU → IXR → BBI → BLR</td>\n",
       "      <td>05:50</td>\n",
       "      <td>13:15</td>\n",
       "      <td>7h 25m</td>\n",
       "      <td>2 stops</td>\n",
       "      <td>No info</td>\n",
       "      <td>7662</td>\n",
       "    </tr>\n",
       "    <tr>\n",
       "      <th>2</th>\n",
       "      <td>Jet Airways</td>\n",
       "      <td>9/06/2019</td>\n",
       "      <td>Delhi</td>\n",
       "      <td>Cochin</td>\n",
       "      <td>DEL → LKO → BOM → COK</td>\n",
       "      <td>09:25</td>\n",
       "      <td>04:25 10 Jun</td>\n",
       "      <td>19h</td>\n",
       "      <td>2 stops</td>\n",
       "      <td>No info</td>\n",
       "      <td>13882</td>\n",
       "    </tr>\n",
       "    <tr>\n",
       "      <th>3</th>\n",
       "      <td>IndiGo</td>\n",
       "      <td>12/05/2019</td>\n",
       "      <td>Kolkata</td>\n",
       "      <td>Banglore</td>\n",
       "      <td>CCU → NAG → BLR</td>\n",
       "      <td>18:05</td>\n",
       "      <td>23:30</td>\n",
       "      <td>5h 25m</td>\n",
       "      <td>1 stop</td>\n",
       "      <td>No info</td>\n",
       "      <td>6218</td>\n",
       "    </tr>\n",
       "    <tr>\n",
       "      <th>4</th>\n",
       "      <td>IndiGo</td>\n",
       "      <td>01/03/2019</td>\n",
       "      <td>Banglore</td>\n",
       "      <td>New Delhi</td>\n",
       "      <td>BLR → NAG → DEL</td>\n",
       "      <td>16:50</td>\n",
       "      <td>21:35</td>\n",
       "      <td>4h 45m</td>\n",
       "      <td>1 stop</td>\n",
       "      <td>No info</td>\n",
       "      <td>13302</td>\n",
       "    </tr>\n",
       "  </tbody>\n",
       "</table>\n",
       "</div>"
      ],
      "text/plain": [
       "       Airline Date_of_Journey    Source Destination                  Route  \\\n",
       "0       IndiGo      24/03/2019  Banglore   New Delhi              BLR → DEL   \n",
       "1    Air India       1/05/2019   Kolkata    Banglore  CCU → IXR → BBI → BLR   \n",
       "2  Jet Airways       9/06/2019     Delhi      Cochin  DEL → LKO → BOM → COK   \n",
       "3       IndiGo      12/05/2019   Kolkata    Banglore        CCU → NAG → BLR   \n",
       "4       IndiGo      01/03/2019  Banglore   New Delhi        BLR → NAG → DEL   \n",
       "\n",
       "  Dep_Time  Arrival_Time Duration Total_Stops Additional_Info  Price  \n",
       "0    22:20  01:10 22 Mar   2h 50m    non-stop         No info   3897  \n",
       "1    05:50         13:15   7h 25m     2 stops         No info   7662  \n",
       "2    09:25  04:25 10 Jun      19h     2 stops         No info  13882  \n",
       "3    18:05         23:30   5h 25m      1 stop         No info   6218  \n",
       "4    16:50         21:35   4h 45m      1 stop         No info  13302  "
      ]
     },
     "execution_count": 3,
     "metadata": {},
     "output_type": "execute_result"
    }
   ],
   "source": [
    "df.head(5)"
   ]
  },
  {
   "cell_type": "code",
   "execution_count": 4,
   "metadata": {},
   "outputs": [
    {
     "data": {
      "text/plain": [
       "(10683, 11)"
      ]
     },
     "execution_count": 4,
     "metadata": {},
     "output_type": "execute_result"
    }
   ],
   "source": [
    "df.shape"
   ]
  },
  {
   "cell_type": "markdown",
   "metadata": {},
   "source": [
    "# Handling missing value "
   ]
  },
  {
   "cell_type": "code",
   "execution_count": 5,
   "metadata": {},
   "outputs": [
    {
     "data": {
      "text/plain": [
       "Airline            0\n",
       "Date_of_Journey    0\n",
       "Source             0\n",
       "Destination        0\n",
       "Route              1\n",
       "Dep_Time           0\n",
       "Arrival_Time       0\n",
       "Duration           0\n",
       "Total_Stops        1\n",
       "Additional_Info    0\n",
       "Price              0\n",
       "dtype: int64"
      ]
     },
     "execution_count": 5,
     "metadata": {},
     "output_type": "execute_result"
    }
   ],
   "source": [
    "df.isnull().sum()"
   ]
  },
  {
   "cell_type": "code",
   "execution_count": 6,
   "metadata": {},
   "outputs": [],
   "source": [
    "df = df.dropna()"
   ]
  },
  {
   "cell_type": "code",
   "execution_count": 7,
   "metadata": {},
   "outputs": [
    {
     "data": {
      "text/plain": [
       "Airline            0\n",
       "Date_of_Journey    0\n",
       "Source             0\n",
       "Destination        0\n",
       "Route              0\n",
       "Dep_Time           0\n",
       "Arrival_Time       0\n",
       "Duration           0\n",
       "Total_Stops        0\n",
       "Additional_Info    0\n",
       "Price              0\n",
       "dtype: int64"
      ]
     },
     "execution_count": 7,
     "metadata": {},
     "output_type": "execute_result"
    }
   ],
   "source": [
    "df.isnull().sum()"
   ]
  },
  {
   "cell_type": "markdown",
   "metadata": {},
   "source": [
    "# Handling Duplicate records "
   ]
  },
  {
   "cell_type": "code",
   "execution_count": 8,
   "metadata": {},
   "outputs": [
    {
     "data": {
      "text/plain": [
       "0        False\n",
       "1        False\n",
       "2        False\n",
       "3        False\n",
       "4        False\n",
       "         ...  \n",
       "10678    False\n",
       "10679    False\n",
       "10680    False\n",
       "10681    False\n",
       "10682    False\n",
       "Length: 10682, dtype: bool"
      ]
     },
     "execution_count": 8,
     "metadata": {},
     "output_type": "execute_result"
    }
   ],
   "source": [
    "duplicate = df.duplicated()\n",
    "duplicate"
   ]
  },
  {
   "cell_type": "code",
   "execution_count": 9,
   "metadata": {},
   "outputs": [
    {
     "data": {
      "text/plain": [
       "220"
      ]
     },
     "execution_count": 9,
     "metadata": {},
     "output_type": "execute_result"
    }
   ],
   "source": [
    "duplicate.sum()"
   ]
  },
  {
   "cell_type": "code",
   "execution_count": 10,
   "metadata": {},
   "outputs": [],
   "source": [
    "df.drop_duplicates(inplace=True)"
   ]
  },
  {
   "cell_type": "code",
   "execution_count": 11,
   "metadata": {},
   "outputs": [
    {
     "data": {
      "text/plain": [
       "0        False\n",
       "1        False\n",
       "2        False\n",
       "3        False\n",
       "4        False\n",
       "         ...  \n",
       "10678    False\n",
       "10679    False\n",
       "10680    False\n",
       "10681    False\n",
       "10682    False\n",
       "Length: 10462, dtype: bool"
      ]
     },
     "execution_count": 11,
     "metadata": {},
     "output_type": "execute_result"
    }
   ],
   "source": [
    "duplicate = df.duplicated()\n",
    "duplicate"
   ]
  },
  {
   "cell_type": "code",
   "execution_count": 12,
   "metadata": {},
   "outputs": [
    {
     "data": {
      "text/plain": [
       "0"
      ]
     },
     "execution_count": 12,
     "metadata": {},
     "output_type": "execute_result"
    }
   ],
   "source": [
    "duplicate.sum()"
   ]
  },
  {
   "cell_type": "markdown",
   "metadata": {},
   "source": [
    "# Handling Outlier "
   ]
  },
  {
   "cell_type": "code",
   "execution_count": 13,
   "metadata": {},
   "outputs": [],
   "source": [
    "#Quantity outlier check\n",
    "Q1=df['Price'].quantile(0.25)\n",
    "Q3=df['Price'].quantile(0.75)\n",
    "IQR=Q3-Q1"
   ]
  },
  {
   "cell_type": "code",
   "execution_count": 14,
   "metadata": {},
   "outputs": [
    {
     "data": {
      "text/plain": [
       "5224.0"
      ]
     },
     "execution_count": 14,
     "metadata": {},
     "output_type": "execute_result"
    }
   ],
   "source": [
    "Q1"
   ]
  },
  {
   "cell_type": "code",
   "execution_count": 15,
   "metadata": {},
   "outputs": [
    {
     "data": {
      "text/plain": [
       "12344.75"
      ]
     },
     "execution_count": 15,
     "metadata": {},
     "output_type": "execute_result"
    }
   ],
   "source": [
    "Q3"
   ]
  },
  {
   "cell_type": "code",
   "execution_count": 16,
   "metadata": {},
   "outputs": [
    {
     "data": {
      "text/plain": [
       "7120.75"
      ]
     },
     "execution_count": 16,
     "metadata": {},
     "output_type": "execute_result"
    }
   ],
   "source": [
    "IQR"
   ]
  },
  {
   "cell_type": "code",
   "execution_count": 17,
   "metadata": {},
   "outputs": [],
   "source": [
    "#Quantity outlier removed\n",
    "df=df[~((df['Price']>Q3+1.5*IQR)|(df['Price']<Q1-1.5*IQR))]"
   ]
  },
  {
   "cell_type": "markdown",
   "metadata": {},
   "source": [
    "# Data Visualization"
   ]
  },
  {
   "cell_type": "code",
   "execution_count": 18,
   "metadata": {},
   "outputs": [
    {
     "name": "stdout",
     "output_type": "stream",
     "text": [
      "Jet Airways :  3638\n",
      "IndiGo :  2043\n",
      "Air India :  1679\n",
      "Multiple carriers :  1186\n",
      "SpiceJet :  814\n",
      "Vistara :  478\n",
      "Air Asia :  319\n",
      "GoAir :  194\n",
      "Multiple carriers Premium economy :  13\n",
      "Vistara Premium economy :  3\n",
      "Trujet :  1\n"
     ]
    }
   ],
   "source": [
    "# Show the frequency of each Airlines\n",
    "for index, value in df['Airline'].value_counts().iteritems():\n",
    "    print(index, ': ', value)"
   ]
  },
  {
   "cell_type": "code",
   "execution_count": 19,
   "metadata": {},
   "outputs": [
    {
     "data": {
      "text/plain": [
       "(array([ 0,  1,  2,  3,  4,  5,  6,  7,  8,  9, 10]),\n",
       " [Text(0, 0, 'IndiGo'),\n",
       "  Text(1, 0, 'Air India'),\n",
       "  Text(2, 0, 'Jet Airways'),\n",
       "  Text(3, 0, 'SpiceJet'),\n",
       "  Text(4, 0, 'Multiple carriers'),\n",
       "  Text(5, 0, 'GoAir'),\n",
       "  Text(6, 0, 'Vistara'),\n",
       "  Text(7, 0, 'Air Asia'),\n",
       "  Text(8, 0, 'Vistara Premium economy'),\n",
       "  Text(9, 0, 'Multiple carriers Premium economy'),\n",
       "  Text(10, 0, 'Trujet')])"
      ]
     },
     "execution_count": 19,
     "metadata": {},
     "output_type": "execute_result"
    },
    {
     "data": {
      "image/png": "[encoded data removed]",
      "text/plain": [
       "<Figure size 504x504 with 1 Axes>"
      ]
     },
     "metadata": {
      "needs_background": "light"
     },
     "output_type": "display_data"
    }
   ],
   "source": [
    "#Count of flights v/s Airline\n",
    "plt.figure(figsize = (7, 7))\n",
    "plt.title('frequency of flights with different Airlines')\n",
    "ax1=sns.countplot(x = 'Airline', data =df)\n",
    "plt.xlabel('Airline')\n",
    "plt.ylabel('Count of flights')\n",
    "plt.xticks(rotation = 90)"
   ]
  },
  {
   "cell_type": "code",
   "execution_count": 20,
   "metadata": {},
   "outputs": [
    {
     "name": "stdout",
     "output_type": "stream",
     "text": [
      "Cochin :  4329\n",
      "Banglore :  2859\n",
      "Delhi :  1265\n",
      "New Delhi :  842\n",
      "Hyderabad :  692\n",
      "Kolkata :  381\n"
     ]
    }
   ],
   "source": [
    "# Show the frequency of each Destination\n",
    "for index, value in df['Destination'].value_counts().iteritems():\n",
    "    print(index, ': ', value)"
   ]
  },
  {
   "cell_type": "code",
   "execution_count": 21,
   "metadata": {},
   "outputs": [
    {
     "data": {
      "text/plain": [
       "(array([0, 1, 2, 3, 4, 5]),\n",
       " [Text(0, 0, 'New Delhi'),\n",
       "  Text(1, 0, 'Banglore'),\n",
       "  Text(2, 0, 'Cochin'),\n",
       "  Text(3, 0, 'Kolkata'),\n",
       "  Text(4, 0, 'Delhi'),\n",
       "  Text(5, 0, 'Hyderabad')])"
      ]
     },
     "execution_count": 21,
     "metadata": {},
     "output_type": "execute_result"
    },
    {
     "data": {
      "image/png": "[encoded data removed]",
      "text/plain": [
       "<Figure size 720x720 with 1 Axes>"
      ]
     },
     "metadata": {
      "needs_background": "light"
     },
     "output_type": "display_data"
    }
   ],
   "source": [
    "#frequency of flights v/s Destination\n",
    "plt.figure(figsize = (10, 10))\n",
    "plt.title('frequency of flights with different Destination')\n",
    "ax2=sns.countplot(x = 'Destination', data =df)\n",
    "plt.xlabel('Destination')\n",
    "plt.ylabel('Count of flights')\n",
    "plt.xticks(rotation = 90)"
   ]
  },
  {
   "cell_type": "code",
   "execution_count": 22,
   "metadata": {},
   "outputs": [
    {
     "name": "stdout",
     "output_type": "stream",
     "text": [
      "Delhi :  4329\n",
      "Kolkata :  2859\n",
      "Banglore :  2107\n",
      "Mumbai :  692\n",
      "Chennai :  381\n"
     ]
    }
   ],
   "source": [
    "# Show the frequency of each Source\n",
    "for index, value in df['Source'].value_counts().iteritems():\n",
    "    print(index, ': ', value)"
   ]
  },
  {
   "cell_type": "code",
   "execution_count": 23,
   "metadata": {},
   "outputs": [
    {
     "data": {
      "text/plain": [
       "(array([0, 1, 2, 3, 4]),\n",
       " [Text(0, 0, 'Banglore'),\n",
       "  Text(1, 0, 'Kolkata'),\n",
       "  Text(2, 0, 'Delhi'),\n",
       "  Text(3, 0, 'Chennai'),\n",
       "  Text(4, 0, 'Mumbai')])"
      ]
     },
     "execution_count": 23,
     "metadata": {},
     "output_type": "execute_result"
    },
    {
     "data": {
      "image/png": "[encoded data removed]",
      "text/plain": [
       "<Figure size 360x360 with 1 Axes>"
      ]
     },
     "metadata": {
      "needs_background": "light"
     },
     "output_type": "display_data"
    }
   ],
   "source": [
    "#frequency of flights v/s Source\n",
    "plt.figure(figsize = (5, 5))\n",
    "plt.title('frequency of flights with different Source')\n",
    "ax2=sns.countplot(x = 'Source', data =df)\n",
    "plt.xlabel('Source')\n",
    "plt.ylabel('Count of flights')\n",
    "plt.xticks(rotation = 90)"
   ]
  },
  {
   "cell_type": "code",
   "execution_count": 24,
   "metadata": {},
   "outputs": [
    {
     "name": "stdout",
     "output_type": "stream",
     "text": [
      "1 stop :  5550\n",
      "non-stop :  3472\n",
      "2 stops :  1302\n",
      "3 stops :  43\n",
      "4 stops :  1\n"
     ]
    }
   ],
   "source": [
    "# Show the frequency of each Stop\n",
    "for index, value in df['Total_Stops'].value_counts().iteritems():\n",
    "    print(index, ': ', value)"
   ]
  },
  {
   "cell_type": "code",
   "execution_count": 25,
   "metadata": {},
   "outputs": [
    {
     "data": {
      "text/plain": [
       "Text(0, 0.5, 'Count of flights')"
      ]
     },
     "execution_count": 25,
     "metadata": {},
     "output_type": "execute_result"
    },
    {
     "data": {
      "image/png": "[encoded data removed]",
      "text/plain": [
       "<Figure size 360x360 with 1 Axes>"
      ]
     },
     "metadata": {
      "needs_background": "light"
     },
     "output_type": "display_data"
    }
   ],
   "source": [
    "#frequency of flights v/s Total_Total_Stopss\n",
    "plt.figure(figsize = (5, 5))\n",
    "plt.title('frequency of flights with Total_Stops')\n",
    "ax2=sns.countplot(x = 'Total_Stops', data =df)\n",
    "plt.xlabel('Total_Stops')\n",
    "plt.ylabel('Count of flights')"
   ]
  },
  {
   "cell_type": "code",
   "execution_count": 26,
   "metadata": {},
   "outputs": [
    {
     "name": "stdout",
     "output_type": "stream",
     "text": [
      "No info :  8105\n",
      "In-flight meal not included :  1926\n",
      "No check-in baggage included :  318\n",
      "1 Long layover :  9\n",
      "Change airports :  6\n",
      "No Info :  3\n",
      "Red-eye flight :  1\n"
     ]
    }
   ],
   "source": [
    "# Show the frequency of each Additional Info\n",
    "for index, value in df['Additional_Info'].value_counts().iteritems():\n",
    "    print(index, ': ', value)"
   ]
  },
  {
   "cell_type": "code",
   "execution_count": 27,
   "metadata": {},
   "outputs": [
    {
     "data": {
      "text/plain": [
       "(array([0, 1, 2, 3, 4, 5, 6]),\n",
       " [Text(0, 0, 'No info'),\n",
       "  Text(1, 0, 'In-flight meal not included'),\n",
       "  Text(2, 0, 'No check-in baggage included'),\n",
       "  Text(3, 0, 'No Info'),\n",
       "  Text(4, 0, '1 Long layover'),\n",
       "  Text(5, 0, 'Change airports'),\n",
       "  Text(6, 0, 'Red-eye flight')])"
      ]
     },
     "execution_count": 27,
     "metadata": {},
     "output_type": "execute_result"
    },
    {
     "data": {
      "image/png": "[encoded data removed]",
      "text/plain": [
       "<Figure size 360x360 with 1 Axes>"
      ]
     },
     "metadata": {
      "needs_background": "light"
     },
     "output_type": "display_data"
    }
   ],
   "source": [
    "#frequency of flights v/s Additional_Info\n",
    "plt.figure(figsize = (5, 5))\n",
    "plt.title('frequency of flights with Additional_Info')\n",
    "ax4=sns.countplot(x = 'Additional_Info', data =df)\n",
    "plt.xlabel('Additional_Info')\n",
    "plt.ylabel('Count of flights')\n",
    "plt.xticks(rotation = 90)"
   ]
  },
  {
   "cell_type": "code",
   "execution_count": 28,
   "metadata": {},
   "outputs": [
    {
     "name": "stdout",
     "output_type": "stream",
     "text": [
      "18:55 :  233\n",
      "17:00 :  225\n",
      "07:05 :  202\n",
      "07:10 :  201\n",
      "10:00 :  196\n",
      "20:00 :  185\n",
      "09:00 :  184\n",
      "09:35 :  181\n",
      "21:10 :  178\n",
      "13:00 :  164\n",
      "07:00 :  159\n",
      "10:20 :  158\n",
      "14:05 :  158\n",
      "11:30 :  157\n",
      "11:40 :  155\n",
      "08:00 :  150\n",
      "06:30 :  139\n",
      "08:25 :  136\n",
      "09:45 :  136\n",
      "06:00 :  130\n",
      "20:25 :  125\n",
      "17:45 :  118\n",
      "08:20 :  114\n",
      "05:45 :  112\n",
      "16:30 :  109\n",
      "22:50 :  103\n",
      "05:30 :  102\n",
      "16:55 :  101\n",
      "16:00 :  100\n",
      "12:00 :  98\n",
      "07:30 :  95\n",
      "19:35 :  94\n",
      "15:15 :  91\n",
      "17:30 :  90\n",
      "19:45 :  89\n",
      "09:25 :  84\n",
      "17:15 :  83\n",
      "19:30 :  83\n",
      "02:15 :  80\n",
      "20:20 :  79\n",
      "20:55 :  78\n",
      "05:50 :  77\n",
      "13:15 :  76\n",
      "05:55 :  76\n",
      "08:45 :  75\n",
      "04:55 :  73\n",
      "21:25 :  73\n",
      "15:00 :  72\n",
      "07:35 :  72\n",
      "11:10 :  71\n",
      "14:00 :  71\n",
      "06:40 :  71\n",
      "22:20 :  70\n",
      "06:50 :  70\n",
      "09:30 :  68\n",
      "08:30 :  68\n",
      "18:15 :  66\n",
      "21:50 :  66\n",
      "06:55 :  66\n",
      "09:40 :  64\n",
      "17:10 :  63\n",
      "10:35 :  63\n",
      "16:45 :  62\n",
      "21:05 :  61\n",
      "07:55 :  59\n",
      "19:00 :  58\n",
      "09:10 :  57\n",
      "14:25 :  56\n",
      "23:30 :  55\n",
      "05:15 :  54\n",
      "13:20 :  53\n",
      "06:05 :  53\n",
      "19:15 :  51\n",
      "20:30 :  49\n",
      "06:20 :  48\n",
      "13:55 :  48\n",
      "04:00 :  47\n",
      "08:55 :  46\n",
      "02:55 :  46\n",
      "11:35 :  45\n",
      "21:00 :  44\n",
      "11:25 :  44\n",
      "05:10 :  44\n",
      "19:50 :  43\n",
      "20:45 :  43\n",
      "09:15 :  43\n",
      "18:25 :  43\n",
      "06:10 :  42\n",
      "14:35 :  40\n",
      "22:45 :  40\n",
      "09:50 :  39\n",
      "19:10 :  39\n",
      "23:05 :  38\n",
      "08:35 :  38\n",
      "07:45 :  37\n",
      "19:55 :  37\n",
      "22:00 :  37\n",
      "12:50 :  35\n",
      "10:10 :  35\n",
      "02:00 :  35\n",
      "21:20 :  33\n",
      "05:05 :  33\n",
      "15:10 :  33\n",
      "01:30 :  33\n",
      "16:50 :  33\n",
      "15:05 :  32\n",
      "22:10 :  32\n",
      "14:20 :  31\n",
      "14:15 :  31\n",
      "11:00 :  30\n",
      "18:05 :  29\n",
      "14:10 :  28\n",
      "05:35 :  28\n",
      "06:45 :  27\n",
      "22:05 :  27\n",
      "14:55 :  26\n",
      "22:15 :  26\n",
      "10:45 :  25\n",
      "23:55 :  25\n",
      "04:40 :  25\n",
      "16:40 :  24\n",
      "14:40 :  24\n",
      "19:05 :  23\n",
      "13:25 :  23\n",
      "10:30 :  22\n",
      "21:15 :  22\n",
      "06:25 :  22\n",
      "08:50 :  22\n",
      "17:55 :  21\n",
      "18:35 :  21\n",
      "20:40 :  21\n",
      "00:30 :  21\n",
      "15:30 :  21\n",
      "03:50 :  21\n",
      "04:45 :  21\n",
      "02:35 :  20\n",
      "10:55 :  20\n",
      "20:05 :  20\n",
      "05:25 :  19\n",
      "11:55 :  19\n",
      "17:40 :  19\n",
      "07:25 :  19\n",
      "05:00 :  18\n",
      "20:35 :  18\n",
      "14:45 :  17\n",
      "13:05 :  17\n",
      "11:50 :  17\n",
      "14:30 :  17\n",
      "17:20 :  17\n",
      "16:10 :  17\n",
      "09:55 :  16\n",
      "22:55 :  16\n",
      "15:55 :  16\n",
      "08:15 :  16\n",
      "15:50 :  15\n",
      "15:45 :  15\n",
      "20:15 :  14\n",
      "12:55 :  14\n",
      "17:05 :  14\n",
      "18:00 :  14\n",
      "19:20 :  13\n",
      "12:30 :  13\n",
      "08:10 :  13\n",
      "19:40 :  12\n",
      "11:05 :  12\n",
      "17:35 :  12\n",
      "17:25 :  12\n",
      "13:30 :  12\n",
      "18:20 :  11\n",
      "17:50 :  11\n",
      "11:45 :  11\n",
      "18:45 :  10\n",
      "09:20 :  10\n",
      "15:20 :  10\n",
      "07:15 :  9\n",
      "11:15 :  9\n",
      "05:40 :  9\n",
      "22:40 :  9\n",
      "13:10 :  8\n",
      "23:25 :  8\n",
      "02:30 :  8\n",
      "20:50 :  8\n",
      "00:25 :  7\n",
      "15:40 :  7\n",
      "12:15 :  6\n",
      "23:00 :  6\n",
      "00:40 :  6\n",
      "12:20 :  5\n",
      "18:30 :  5\n",
      "02:05 :  5\n",
      "16:35 :  5\n",
      "21:30 :  5\n",
      "18:40 :  5\n",
      "20:10 :  5\n",
      "13:40 :  4\n",
      "00:20 :  4\n",
      "10:05 :  4\n",
      "13:50 :  3\n",
      "13:45 :  3\n",
      "12:10 :  3\n",
      "21:55 :  3\n",
      "15:35 :  3\n",
      "01:40 :  3\n",
      "16:15 :  3\n",
      "08:40 :  3\n",
      "10:25 :  3\n",
      "11:20 :  2\n",
      "07:20 :  2\n",
      "06:15 :  2\n",
      "15:25 :  2\n",
      "06:35 :  2\n",
      "03:05 :  2\n",
      "22:25 :  1\n",
      "01:35 :  1\n",
      "12:05 :  1\n",
      "21:40 :  1\n",
      "04:50 :  1\n",
      "16:25 :  1\n",
      "12:45 :  1\n",
      "04:15 :  1\n",
      "03:00 :  1\n",
      "21:35 :  1\n"
     ]
    }
   ],
   "source": [
    "# Show the frequency of each Dep_Time\n",
    "for index, value in df['Dep_Time'].value_counts().iteritems():\n",
    "    print(index, ': ', value)"
   ]
  },
  {
   "cell_type": "code",
   "execution_count": 29,
   "metadata": {},
   "outputs": [
    {
     "data": {
      "text/plain": [
       "<function matplotlib.pyplot.show(close=None, block=None)>"
      ]
     },
     "execution_count": 29,
     "metadata": {},
     "output_type": "execute_result"
    },
    {
     "data": {
      "image/png": "[encoded data removed]",
      "text/plain": [
       "<Figure size 2880x720 with 1 Axes>"
      ]
     },
     "metadata": {
      "needs_background": "light"
     },
     "output_type": "display_data"
    }
   ],
   "source": [
    "#frequency of flights v/s Dep_Time\n",
    "plt.figure(figsize = (40, 10))\n",
    "plt.title('frequency of flights with Dep_Time')\n",
    "ax4=sns.countplot(x = 'Dep_Time', data =df)\n",
    "plt.xlabel('Dep_Time')\n",
    "plt.ylabel('Count of flights')\n",
    "plt.xticks(rotation = 90)\n",
    "plt.show"
   ]
  },
  {
   "cell_type": "markdown",
   "metadata": {},
   "source": [
    "# Bivariate Analysis"
   ]
  },
  {
   "cell_type": "code",
   "execution_count": 30,
   "metadata": {},
   "outputs": [
    {
     "data": {
      "text/plain": [
       "<function matplotlib.pyplot.show(close=None, block=None)>"
      ]
     },
     "execution_count": 30,
     "metadata": {},
     "output_type": "execute_result"
    },
    {
     "data": {
      "image/png": "[encoded data removed]",
      "text/plain": [
       "<Figure size 432x288 with 1 Axes>"
      ]
     },
     "metadata": {
      "needs_background": "light"
     },
     "output_type": "display_data"
    }
   ],
   "source": [
    "# Airline vs Price\n",
    "sns.boxplot(y='Price',x='Airline',data= df.sort_values('Price',ascending=False))\n",
    "plt.xlabel('Airline')\n",
    "plt.ylabel('Price')\n",
    "plt.xticks(rotation = 90)\n",
    "plt.show"
   ]
  },
  {
   "cell_type": "code",
   "execution_count": 31,
   "metadata": {},
   "outputs": [
    {
     "data": {
      "text/plain": [
       "<function matplotlib.pyplot.show(close=None, block=None)>"
      ]
     },
     "execution_count": 31,
     "metadata": {},
     "output_type": "execute_result"
    },
    {
     "data": {
      "image/png": "[encoded data removed]",
      "text/plain": [
       "<Figure size 504x504 with 1 Axes>"
      ]
     },
     "metadata": {
      "needs_background": "light"
     },
     "output_type": "display_data"
    }
   ],
   "source": [
    "# Destination vs Price\n",
    "plt.figure(figsize = (7, 7))\n",
    "sns.boxplot(y='Price',x='Destination',data= df.sort_values('Price',ascending=False))\n",
    "plt.show"
   ]
  },
  {
   "cell_type": "code",
   "execution_count": 32,
   "metadata": {},
   "outputs": [
    {
     "data": {
      "text/plain": [
       "<function matplotlib.pyplot.show(close=None, block=None)>"
      ]
     },
     "execution_count": 32,
     "metadata": {},
     "output_type": "execute_result"
    },
    {
     "data": {
      "image/png": "[encoded data removed]",
      "text/plain": [
       "<Figure size 504x504 with 1 Axes>"
      ]
     },
     "metadata": {
      "needs_background": "light"
     },
     "output_type": "display_data"
    }
   ],
   "source": [
    "# Source vs Price\n",
    "plt.figure(figsize = (7, 7))\n",
    "sns.boxplot(y='Price',x='Source',data= df.sort_values('Price',ascending=False))\n",
    "plt.show"
   ]
  },
  {
   "cell_type": "code",
   "execution_count": 33,
   "metadata": {},
   "outputs": [
    {
     "data": {
      "text/plain": [
       "<function matplotlib.pyplot.show(close=None, block=None)>"
      ]
     },
     "execution_count": 33,
     "metadata": {},
     "output_type": "execute_result"
    },
    {
     "data": {
      "image/png": "[encoded data removed]",
      "text/plain": [
       "<Figure size 2880x720 with 1 Axes>"
      ]
     },
     "metadata": {
      "needs_background": "light"
     },
     "output_type": "display_data"
    }
   ],
   "source": [
    "#duration v/s Price\n",
    "plt.figure(figsize = (40, 10))\n",
    "sns.lineplot(data=df, x='Duration', y='Price')\n",
    "plt.xticks(rotation = 90)\n",
    "plt.show"
   ]
  },
  {
   "cell_type": "code",
   "execution_count": 34,
   "metadata": {},
   "outputs": [
    {
     "data": {
      "text/plain": [
       "<function matplotlib.pyplot.show(close=None, block=None)>"
      ]
     },
     "execution_count": 34,
     "metadata": {},
     "output_type": "execute_result"
    },
    {
     "data": {
      "image/png": "[encoded data removed]",
      "text/plain": [
       "<Figure size 2880x720 with 1 Axes>"
      ]
     },
     "metadata": {
      "needs_background": "light"
     },
     "output_type": "display_data"
    }
   ],
   "source": [
    "#Deptarure time v/s Price\n",
    "plt.figure(figsize = (40, 10))\n",
    "v2=sns.barplot(x='Dep_Time', y='Price', data=df)\n",
    "v2.set_ylabel('Dep_Time')\n",
    "v2.set_xlabel('Price')\n",
    "plt.xticks(rotation = 90)\n",
    "plt.show"
   ]
  },
  {
   "cell_type": "code",
   "execution_count": 35,
   "metadata": {},
   "outputs": [
    {
     "data": {
      "text/plain": [
       "Text(0.5, 0, 'Total_Stops')"
      ]
     },
     "execution_count": 35,
     "metadata": {},
     "output_type": "execute_result"
    },
    {
     "data": {
      "image/png": "[encoded data removed]",
      "text/plain": [
       "<Figure size 432x288 with 1 Axes>"
      ]
     },
     "metadata": {
      "needs_background": "light"
     },
     "output_type": "display_data"
    }
   ],
   "source": [
    "v4=sns.barplot(x='Total_Stops', y='Price', data=df)\n",
    "v4.set_title('NO. OF Total_Stops V/S PRICE')\n",
    "v4.set_ylabel('Price')\n",
    "v4.set_xlabel('Total_Stops')"
   ]
  },
  {
   "cell_type": "code",
   "execution_count": 36,
   "metadata": {},
   "outputs": [
    {
     "data": {
      "text/plain": [
       "<function matplotlib.pyplot.show(close=None, block=None)>"
      ]
     },
     "execution_count": 36,
     "metadata": {},
     "output_type": "execute_result"
    },
    {
     "data": {
      "image/png": "[encoded data removed]",
      "text/plain": [
       "<Figure size 2880x720 with 1 Axes>"
      ]
     },
     "metadata": {
      "needs_background": "light"
     },
     "output_type": "display_data"
    }
   ],
   "source": [
    "#Date_of_Journey v/s  price\n",
    "plt.figure(figsize = (40, 10))\n",
    "v5=sns.barplot(x='Date_of_Journey', y='Price', data=df)\n",
    "v5.set_title('Price of flights with different datess')\n",
    "v5.set_ylabel('Price')\n",
    "v5.set_xlabel('Date_of_Journey')\n",
    "plt.xticks(rotation = 90)\n",
    "plt.show"
   ]
  },
  {
   "cell_type": "code",
   "execution_count": 37,
   "metadata": {},
   "outputs": [
    {
     "data": {
      "text/plain": [
       "<function matplotlib.pyplot.show(close=None, block=None)>"
      ]
     },
     "execution_count": 37,
     "metadata": {},
     "output_type": "execute_result"
    },
    {
     "data": {
      "text/plain": [
       "<Figure size 1080x432 with 0 Axes>"
      ]
     },
     "metadata": {},
     "output_type": "display_data"
    },
    {
     "data": {
      "image/png": "[encoded data removed]",
      "text/plain": [
       "<Figure size 432x432 with 3 Axes>"
      ]
     },
     "metadata": {
      "needs_background": "light"
     },
     "output_type": "display_data"
    }
   ],
   "source": [
    "#Airline v/s price\n",
    "plt.figure(figsize = (15, 6))\n",
    "sns.jointplot(x='Airline',y='Price',data=df)\n",
    "plt.xticks(rotation = 90)\n",
    "plt.show"
   ]
  },
  {
   "cell_type": "code",
   "execution_count": 38,
   "metadata": {},
   "outputs": [
    {
     "data": {
      "text/html": [
       "<div>\n",
       "<style scoped>\n",
       "    .dataframe tbody tr th:only-of-type {\n",
       "        vertical-align: middle;\n",
       "    }\n",
       "\n",
       "    .dataframe tbody tr th {\n",
       "        vertical-align: top;\n",
       "    }\n",
       "\n",
       "    .dataframe thead th {\n",
       "        text-align: right;\n",
       "    }\n",
       "</style>\n",
       "<table border=\"1\" class=\"dataframe\">\n",
       "  <thead>\n",
       "    <tr style=\"text-align: right;\">\n",
       "      <th></th>\n",
       "      <th>Airline</th>\n",
       "      <th>Date_of_Journey</th>\n",
       "      <th>Source</th>\n",
       "      <th>Destination</th>\n",
       "      <th>Route</th>\n",
       "      <th>Dep_Time</th>\n",
       "      <th>Arrival_Time</th>\n",
       "      <th>Duration</th>\n",
       "      <th>Total_Stops</th>\n",
       "      <th>Additional_Info</th>\n",
       "      <th>Price</th>\n",
       "    </tr>\n",
       "  </thead>\n",
       "  <tbody>\n",
       "    <tr>\n",
       "      <th>0</th>\n",
       "      <td>IndiGo</td>\n",
       "      <td>24/03/2019</td>\n",
       "      <td>Banglore</td>\n",
       "      <td>New Delhi</td>\n",
       "      <td>BLR → DEL</td>\n",
       "      <td>22:20</td>\n",
       "      <td>01:10 22 Mar</td>\n",
       "      <td>2h 50m</td>\n",
       "      <td>non-stop</td>\n",
       "      <td>No info</td>\n",
       "      <td>3897</td>\n",
       "    </tr>\n",
       "    <tr>\n",
       "      <th>1</th>\n",
       "      <td>Air India</td>\n",
       "      <td>1/05/2019</td>\n",
       "      <td>Kolkata</td>\n",
       "      <td>Banglore</td>\n",
       "      <td>CCU → IXR → BBI → BLR</td>\n",
       "      <td>05:50</td>\n",
       "      <td>13:15</td>\n",
       "      <td>7h 25m</td>\n",
       "      <td>2 stops</td>\n",
       "      <td>No info</td>\n",
       "      <td>7662</td>\n",
       "    </tr>\n",
       "    <tr>\n",
       "      <th>2</th>\n",
       "      <td>Jet Airways</td>\n",
       "      <td>9/06/2019</td>\n",
       "      <td>Delhi</td>\n",
       "      <td>Cochin</td>\n",
       "      <td>DEL → LKO → BOM → COK</td>\n",
       "      <td>09:25</td>\n",
       "      <td>04:25 10 Jun</td>\n",
       "      <td>19h</td>\n",
       "      <td>2 stops</td>\n",
       "      <td>No info</td>\n",
       "      <td>13882</td>\n",
       "    </tr>\n",
       "    <tr>\n",
       "      <th>3</th>\n",
       "      <td>IndiGo</td>\n",
       "      <td>12/05/2019</td>\n",
       "      <td>Kolkata</td>\n",
       "      <td>Banglore</td>\n",
       "      <td>CCU → NAG → BLR</td>\n",
       "      <td>18:05</td>\n",
       "      <td>23:30</td>\n",
       "      <td>5h 25m</td>\n",
       "      <td>1 stop</td>\n",
       "      <td>No info</td>\n",
       "      <td>6218</td>\n",
       "    </tr>\n",
       "    <tr>\n",
       "      <th>4</th>\n",
       "      <td>IndiGo</td>\n",
       "      <td>01/03/2019</td>\n",
       "      <td>Banglore</td>\n",
       "      <td>New Delhi</td>\n",
       "      <td>BLR → NAG → DEL</td>\n",
       "      <td>16:50</td>\n",
       "      <td>21:35</td>\n",
       "      <td>4h 45m</td>\n",
       "      <td>1 stop</td>\n",
       "      <td>No info</td>\n",
       "      <td>13302</td>\n",
       "    </tr>\n",
       "    <tr>\n",
       "      <th>...</th>\n",
       "      <td>...</td>\n",
       "      <td>...</td>\n",
       "      <td>...</td>\n",
       "      <td>...</td>\n",
       "      <td>...</td>\n",
       "      <td>...</td>\n",
       "      <td>...</td>\n",
       "      <td>...</td>\n",
       "      <td>...</td>\n",
       "      <td>...</td>\n",
       "      <td>...</td>\n",
       "    </tr>\n",
       "    <tr>\n",
       "      <th>10678</th>\n",
       "      <td>Air Asia</td>\n",
       "      <td>9/04/2019</td>\n",
       "      <td>Kolkata</td>\n",
       "      <td>Banglore</td>\n",
       "      <td>CCU → BLR</td>\n",
       "      <td>19:55</td>\n",
       "      <td>22:25</td>\n",
       "      <td>2h 30m</td>\n",
       "      <td>non-stop</td>\n",
       "      <td>No info</td>\n",
       "      <td>4107</td>\n",
       "    </tr>\n",
       "    <tr>\n",
       "      <th>10679</th>\n",
       "      <td>Air India</td>\n",
       "      <td>27/04/2019</td>\n",
       "      <td>Kolkata</td>\n",
       "      <td>Banglore</td>\n",
       "      <td>CCU → BLR</td>\n",
       "      <td>20:45</td>\n",
       "      <td>23:20</td>\n",
       "      <td>2h 35m</td>\n",
       "      <td>non-stop</td>\n",
       "      <td>No info</td>\n",
       "      <td>4145</td>\n",
       "    </tr>\n",
       "    <tr>\n",
       "      <th>10680</th>\n",
       "      <td>Jet Airways</td>\n",
       "      <td>27/04/2019</td>\n",
       "      <td>Banglore</td>\n",
       "      <td>Delhi</td>\n",
       "      <td>BLR → DEL</td>\n",
       "      <td>08:20</td>\n",
       "      <td>11:20</td>\n",
       "      <td>3h</td>\n",
       "      <td>non-stop</td>\n",
       "      <td>No info</td>\n",
       "      <td>7229</td>\n",
       "    </tr>\n",
       "    <tr>\n",
       "      <th>10681</th>\n",
       "      <td>Vistara</td>\n",
       "      <td>01/03/2019</td>\n",
       "      <td>Banglore</td>\n",
       "      <td>New Delhi</td>\n",
       "      <td>BLR → DEL</td>\n",
       "      <td>11:30</td>\n",
       "      <td>14:10</td>\n",
       "      <td>2h 40m</td>\n",
       "      <td>non-stop</td>\n",
       "      <td>No info</td>\n",
       "      <td>12648</td>\n",
       "    </tr>\n",
       "    <tr>\n",
       "      <th>10682</th>\n",
       "      <td>Air India</td>\n",
       "      <td>9/05/2019</td>\n",
       "      <td>Delhi</td>\n",
       "      <td>Cochin</td>\n",
       "      <td>DEL → GOI → BOM → COK</td>\n",
       "      <td>10:55</td>\n",
       "      <td>19:15</td>\n",
       "      <td>8h 20m</td>\n",
       "      <td>2 stops</td>\n",
       "      <td>No info</td>\n",
       "      <td>11753</td>\n",
       "    </tr>\n",
       "  </tbody>\n",
       "</table>\n",
       "<p>10368 rows × 11 columns</p>\n",
       "</div>"
      ],
      "text/plain": [
       "           Airline Date_of_Journey    Source Destination  \\\n",
       "0           IndiGo      24/03/2019  Banglore   New Delhi   \n",
       "1        Air India       1/05/2019   Kolkata    Banglore   \n",
       "2      Jet Airways       9/06/2019     Delhi      Cochin   \n",
       "3           IndiGo      12/05/2019   Kolkata    Banglore   \n",
       "4           IndiGo      01/03/2019  Banglore   New Delhi   \n",
       "...            ...             ...       ...         ...   \n",
       "10678     Air Asia       9/04/2019   Kolkata    Banglore   \n",
       "10679    Air India      27/04/2019   Kolkata    Banglore   \n",
       "10680  Jet Airways      27/04/2019  Banglore       Delhi   \n",
       "10681      Vistara      01/03/2019  Banglore   New Delhi   \n",
       "10682    Air India       9/05/2019     Delhi      Cochin   \n",
       "\n",
       "                       Route Dep_Time  Arrival_Time Duration Total_Stops  \\\n",
       "0                  BLR → DEL    22:20  01:10 22 Mar   2h 50m    non-stop   \n",
       "1      CCU → IXR → BBI → BLR    05:50         13:15   7h 25m     2 stops   \n",
       "2      DEL → LKO → BOM → COK    09:25  04:25 10 Jun      19h     2 stops   \n",
       "3            CCU → NAG → BLR    18:05         23:30   5h 25m      1 stop   \n",
       "4            BLR → NAG → DEL    16:50         21:35   4h 45m      1 stop   \n",
       "...                      ...      ...           ...      ...         ...   \n",
       "10678              CCU → BLR    19:55         22:25   2h 30m    non-stop   \n",
       "10679              CCU → BLR    20:45         23:20   2h 35m    non-stop   \n",
       "10680              BLR → DEL    08:20         11:20       3h    non-stop   \n",
       "10681              BLR → DEL    11:30         14:10   2h 40m    non-stop   \n",
       "10682  DEL → GOI → BOM → COK    10:55         19:15   8h 20m     2 stops   \n",
       "\n",
       "      Additional_Info  Price  \n",
       "0             No info   3897  \n",
       "1             No info   7662  \n",
       "2             No info  13882  \n",
       "3             No info   6218  \n",
       "4             No info  13302  \n",
       "...               ...    ...  \n",
       "10678         No info   4107  \n",
       "10679         No info   4145  \n",
       "10680         No info   7229  \n",
       "10681         No info  12648  \n",
       "10682         No info  11753  \n",
       "\n",
       "[10368 rows x 11 columns]"
      ]
     },
     "execution_count": 38,
     "metadata": {},
     "output_type": "execute_result"
    }
   ],
   "source": [
    "df"
   ]
  },
  {
   "cell_type": "markdown",
   "metadata": {},
   "source": [
    "# LabelEncoder"
   ]
  },
  {
   "cell_type": "code",
   "execution_count": 39,
   "metadata": {},
   "outputs": [],
   "source": [
    "from sklearn.preprocessing import LabelEncoder"
   ]
  },
  {
   "cell_type": "code",
   "execution_count": 40,
   "metadata": {},
   "outputs": [],
   "source": [
    "for x in df.columns:\n",
    "    if x!= 'Price':\n",
    "        df[x] = LabelEncoder().fit_transform(df[x])"
   ]
  },
  {
   "cell_type": "code",
   "execution_count": 41,
   "metadata": {},
   "outputs": [
    {
     "data": {
      "text/html": [
       "<div>\n",
       "<style scoped>\n",
       "    .dataframe tbody tr th:only-of-type {\n",
       "        vertical-align: middle;\n",
       "    }\n",
       "\n",
       "    .dataframe tbody tr th {\n",
       "        vertical-align: top;\n",
       "    }\n",
       "\n",
       "    .dataframe thead th {\n",
       "        text-align: right;\n",
       "    }\n",
       "</style>\n",
       "<table border=\"1\" class=\"dataframe\">\n",
       "  <thead>\n",
       "    <tr style=\"text-align: right;\">\n",
       "      <th></th>\n",
       "      <th>Airline</th>\n",
       "      <th>Date_of_Journey</th>\n",
       "      <th>Source</th>\n",
       "      <th>Destination</th>\n",
       "      <th>Route</th>\n",
       "      <th>Dep_Time</th>\n",
       "      <th>Arrival_Time</th>\n",
       "      <th>Duration</th>\n",
       "      <th>Total_Stops</th>\n",
       "      <th>Additional_Info</th>\n",
       "      <th>Price</th>\n",
       "    </tr>\n",
       "  </thead>\n",
       "  <tbody>\n",
       "    <tr>\n",
       "      <th>0</th>\n",
       "      <td>3</td>\n",
       "      <td>24</td>\n",
       "      <td>0</td>\n",
       "      <td>5</td>\n",
       "      <td>18</td>\n",
       "      <td>211</td>\n",
       "      <td>230</td>\n",
       "      <td>240</td>\n",
       "      <td>4</td>\n",
       "      <td>5</td>\n",
       "      <td>3897</td>\n",
       "    </tr>\n",
       "    <tr>\n",
       "      <th>1</th>\n",
       "      <td>1</td>\n",
       "      <td>6</td>\n",
       "      <td>3</td>\n",
       "      <td>0</td>\n",
       "      <td>82</td>\n",
       "      <td>31</td>\n",
       "      <td>898</td>\n",
       "      <td>336</td>\n",
       "      <td>1</td>\n",
       "      <td>5</td>\n",
       "      <td>7662</td>\n",
       "    </tr>\n",
       "    <tr>\n",
       "      <th>2</th>\n",
       "      <td>4</td>\n",
       "      <td>43</td>\n",
       "      <td>2</td>\n",
       "      <td>1</td>\n",
       "      <td>116</td>\n",
       "      <td>70</td>\n",
       "      <td>409</td>\n",
       "      <td>106</td>\n",
       "      <td>1</td>\n",
       "      <td>5</td>\n",
       "      <td>13882</td>\n",
       "    </tr>\n",
       "    <tr>\n",
       "      <th>3</th>\n",
       "      <td>3</td>\n",
       "      <td>10</td>\n",
       "      <td>3</td>\n",
       "      <td>0</td>\n",
       "      <td>89</td>\n",
       "      <td>164</td>\n",
       "      <td>1310</td>\n",
       "      <td>311</td>\n",
       "      <td>0</td>\n",
       "      <td>5</td>\n",
       "      <td>6218</td>\n",
       "    </tr>\n",
       "    <tr>\n",
       "      <th>4</th>\n",
       "      <td>3</td>\n",
       "      <td>0</td>\n",
       "      <td>0</td>\n",
       "      <td>5</td>\n",
       "      <td>29</td>\n",
       "      <td>149</td>\n",
       "      <td>1225</td>\n",
       "      <td>303</td>\n",
       "      <td>0</td>\n",
       "      <td>5</td>\n",
       "      <td>13302</td>\n",
       "    </tr>\n",
       "    <tr>\n",
       "      <th>...</th>\n",
       "      <td>...</td>\n",
       "      <td>...</td>\n",
       "      <td>...</td>\n",
       "      <td>...</td>\n",
       "      <td>...</td>\n",
       "      <td>...</td>\n",
       "      <td>...</td>\n",
       "      <td>...</td>\n",
       "      <td>...</td>\n",
       "      <td>...</td>\n",
       "      <td>...</td>\n",
       "    </tr>\n",
       "    <tr>\n",
       "      <th>10678</th>\n",
       "      <td>0</td>\n",
       "      <td>41</td>\n",
       "      <td>3</td>\n",
       "      <td>0</td>\n",
       "      <td>62</td>\n",
       "      <td>183</td>\n",
       "      <td>1247</td>\n",
       "      <td>236</td>\n",
       "      <td>4</td>\n",
       "      <td>5</td>\n",
       "      <td>4107</td>\n",
       "    </tr>\n",
       "    <tr>\n",
       "      <th>10679</th>\n",
       "      <td>1</td>\n",
       "      <td>29</td>\n",
       "      <td>3</td>\n",
       "      <td>0</td>\n",
       "      <td>62</td>\n",
       "      <td>193</td>\n",
       "      <td>1292</td>\n",
       "      <td>237</td>\n",
       "      <td>4</td>\n",
       "      <td>5</td>\n",
       "      <td>4145</td>\n",
       "    </tr>\n",
       "    <tr>\n",
       "      <th>10680</th>\n",
       "      <td>4</td>\n",
       "      <td>29</td>\n",
       "      <td>0</td>\n",
       "      <td>2</td>\n",
       "      <td>18</td>\n",
       "      <td>58</td>\n",
       "      <td>816</td>\n",
       "      <td>280</td>\n",
       "      <td>4</td>\n",
       "      <td>5</td>\n",
       "      <td>7229</td>\n",
       "    </tr>\n",
       "    <tr>\n",
       "      <th>10681</th>\n",
       "      <td>9</td>\n",
       "      <td>0</td>\n",
       "      <td>0</td>\n",
       "      <td>5</td>\n",
       "      <td>18</td>\n",
       "      <td>92</td>\n",
       "      <td>930</td>\n",
       "      <td>238</td>\n",
       "      <td>4</td>\n",
       "      <td>5</td>\n",
       "      <td>12648</td>\n",
       "    </tr>\n",
       "    <tr>\n",
       "      <th>10682</th>\n",
       "      <td>1</td>\n",
       "      <td>42</td>\n",
       "      <td>2</td>\n",
       "      <td>1</td>\n",
       "      <td>106</td>\n",
       "      <td>85</td>\n",
       "      <td>1115</td>\n",
       "      <td>347</td>\n",
       "      <td>1</td>\n",
       "      <td>5</td>\n",
       "      <td>11753</td>\n",
       "    </tr>\n",
       "  </tbody>\n",
       "</table>\n",
       "<p>10368 rows × 11 columns</p>\n",
       "</div>"
      ],
      "text/plain": [
       "       Airline  Date_of_Journey  Source  Destination  Route  Dep_Time  \\\n",
       "0            3               24       0            5     18       211   \n",
       "1            1                6       3            0     82        31   \n",
       "2            4               43       2            1    116        70   \n",
       "3            3               10       3            0     89       164   \n",
       "4            3                0       0            5     29       149   \n",
       "...        ...              ...     ...          ...    ...       ...   \n",
       "10678        0               41       3            0     62       183   \n",
       "10679        1               29       3            0     62       193   \n",
       "10680        4               29       0            2     18        58   \n",
       "10681        9                0       0            5     18        92   \n",
       "10682        1               42       2            1    106        85   \n",
       "\n",
       "       Arrival_Time  Duration  Total_Stops  Additional_Info  Price  \n",
       "0               230       240            4                5   3897  \n",
       "1               898       336            1                5   7662  \n",
       "2               409       106            1                5  13882  \n",
       "3              1310       311            0                5   6218  \n",
       "4              1225       303            0                5  13302  \n",
       "...             ...       ...          ...              ...    ...  \n",
       "10678          1247       236            4                5   4107  \n",
       "10679          1292       237            4                5   4145  \n",
       "10680           816       280            4                5   7229  \n",
       "10681           930       238            4                5  12648  \n",
       "10682          1115       347            1                5  11753  \n",
       "\n",
       "[10368 rows x 11 columns]"
      ]
     },
     "execution_count": 41,
     "metadata": {},
     "output_type": "execute_result"
    }
   ],
   "source": [
    "df"
   ]
  },
  {
   "cell_type": "markdown",
   "metadata": {},
   "source": [
    "# Feature Selection"
   ]
  },
  {
   "cell_type": "markdown",
   "metadata": {},
   "source": [
    "# Droping Constant Features Using Variance Threshold"
   ]
  },
  {
   "cell_type": "code",
   "execution_count": 42,
   "metadata": {},
   "outputs": [
    {
     "data": {
      "text/plain": [
       "VarianceThreshold(threshold=0)"
      ]
     },
     "execution_count": 42,
     "metadata": {},
     "output_type": "execute_result"
    }
   ],
   "source": [
    "### It will zero variance features\n",
    "from sklearn.feature_selection import VarianceThreshold\n",
    "var_thres=VarianceThreshold(threshold=0)\n",
    "var_thres.fit(df)"
   ]
  },
  {
   "cell_type": "code",
   "execution_count": 43,
   "metadata": {},
   "outputs": [
    {
     "data": {
      "text/plain": [
       "Index(['Airline', 'Date_of_Journey', 'Source', 'Destination', 'Route',\n",
       "       'Dep_Time', 'Arrival_Time', 'Duration', 'Total_Stops',\n",
       "       'Additional_Info', 'Price'],\n",
       "      dtype='object')"
      ]
     },
     "execution_count": 43,
     "metadata": {},
     "output_type": "execute_result"
    }
   ],
   "source": [
    "df.columns[var_thres.get_support()]"
   ]
  },
  {
   "cell_type": "code",
   "execution_count": 44,
   "metadata": {},
   "outputs": [
    {
     "data": {
      "text/plain": [
       "(10368, 11)"
      ]
     },
     "execution_count": 44,
     "metadata": {},
     "output_type": "execute_result"
    }
   ],
   "source": [
    "df.shape"
   ]
  },
  {
   "cell_type": "markdown",
   "metadata": {},
   "source": [
    "# Feature Selection- With Correlation"
   ]
  },
  {
   "cell_type": "code",
   "execution_count": 45,
   "metadata": {},
   "outputs": [
    {
     "data": {
      "text/html": [
       "<div>\n",
       "<style scoped>\n",
       "    .dataframe tbody tr th:only-of-type {\n",
       "        vertical-align: middle;\n",
       "    }\n",
       "\n",
       "    .dataframe tbody tr th {\n",
       "        vertical-align: top;\n",
       "    }\n",
       "\n",
       "    .dataframe thead th {\n",
       "        text-align: right;\n",
       "    }\n",
       "</style>\n",
       "<table border=\"1\" class=\"dataframe\">\n",
       "  <thead>\n",
       "    <tr style=\"text-align: right;\">\n",
       "      <th></th>\n",
       "      <th>Airline</th>\n",
       "      <th>Date_of_Journey</th>\n",
       "      <th>Source</th>\n",
       "      <th>Destination</th>\n",
       "      <th>Route</th>\n",
       "      <th>Dep_Time</th>\n",
       "      <th>Arrival_Time</th>\n",
       "      <th>Duration</th>\n",
       "      <th>Total_Stops</th>\n",
       "      <th>Additional_Info</th>\n",
       "      <th>Price</th>\n",
       "    </tr>\n",
       "  </thead>\n",
       "  <tbody>\n",
       "    <tr>\n",
       "      <th>Airline</th>\n",
       "      <td>1.000000</td>\n",
       "      <td>0.014944</td>\n",
       "      <td>-0.013853</td>\n",
       "      <td>0.023310</td>\n",
       "      <td>0.002370</td>\n",
       "      <td>-0.018569</td>\n",
       "      <td>-0.016879</td>\n",
       "      <td>0.027431</td>\n",
       "      <td>0.037995</td>\n",
       "      <td>-0.108317</td>\n",
       "      <td>-0.026710</td>\n",
       "    </tr>\n",
       "    <tr>\n",
       "      <th>Date_of_Journey</th>\n",
       "      <td>0.014944</td>\n",
       "      <td>1.000000</td>\n",
       "      <td>0.149661</td>\n",
       "      <td>-0.250873</td>\n",
       "      <td>0.257569</td>\n",
       "      <td>-0.011117</td>\n",
       "      <td>-0.010311</td>\n",
       "      <td>-0.000430</td>\n",
       "      <td>-0.052247</td>\n",
       "      <td>-0.005269</td>\n",
       "      <td>0.019842</td>\n",
       "    </tr>\n",
       "    <tr>\n",
       "      <th>Source</th>\n",
       "      <td>-0.013853</td>\n",
       "      <td>0.149661</td>\n",
       "      <td>1.000000</td>\n",
       "      <td>-0.581120</td>\n",
       "      <td>0.384375</td>\n",
       "      <td>0.057423</td>\n",
       "      <td>0.022712</td>\n",
       "      <td>-0.195026</td>\n",
       "      <td>-0.233770</td>\n",
       "      <td>-0.036431</td>\n",
       "      <td>0.073826</td>\n",
       "    </tr>\n",
       "    <tr>\n",
       "      <th>Destination</th>\n",
       "      <td>0.023310</td>\n",
       "      <td>-0.250873</td>\n",
       "      <td>-0.581120</td>\n",
       "      <td>1.000000</td>\n",
       "      <td>-0.433271</td>\n",
       "      <td>-0.066174</td>\n",
       "      <td>-0.042090</td>\n",
       "      <td>0.018992</td>\n",
       "      <td>0.354053</td>\n",
       "      <td>0.046003</td>\n",
       "      <td>-0.166970</td>\n",
       "    </tr>\n",
       "    <tr>\n",
       "      <th>Route</th>\n",
       "      <td>0.002370</td>\n",
       "      <td>0.257569</td>\n",
       "      <td>0.384375</td>\n",
       "      <td>-0.433271</td>\n",
       "      <td>1.000000</td>\n",
       "      <td>-0.085590</td>\n",
       "      <td>0.018393</td>\n",
       "      <td>-0.054934</td>\n",
       "      <td>-0.448949</td>\n",
       "      <td>0.031258</td>\n",
       "      <td>0.240948</td>\n",
       "    </tr>\n",
       "    <tr>\n",
       "      <th>Dep_Time</th>\n",
       "      <td>-0.018569</td>\n",
       "      <td>-0.011117</td>\n",
       "      <td>0.057423</td>\n",
       "      <td>-0.066174</td>\n",
       "      <td>-0.085590</td>\n",
       "      <td>1.000000</td>\n",
       "      <td>-0.030878</td>\n",
       "      <td>0.041898</td>\n",
       "      <td>0.045662</td>\n",
       "      <td>-0.063272</td>\n",
       "      <td>-0.000834</td>\n",
       "    </tr>\n",
       "    <tr>\n",
       "      <th>Arrival_Time</th>\n",
       "      <td>-0.016879</td>\n",
       "      <td>-0.010311</td>\n",
       "      <td>0.022712</td>\n",
       "      <td>-0.042090</td>\n",
       "      <td>0.018393</td>\n",
       "      <td>-0.030878</td>\n",
       "      <td>1.000000</td>\n",
       "      <td>0.025699</td>\n",
       "      <td>-0.103350</td>\n",
       "      <td>0.013611</td>\n",
       "      <td>0.049222</td>\n",
       "    </tr>\n",
       "    <tr>\n",
       "      <th>Duration</th>\n",
       "      <td>0.027431</td>\n",
       "      <td>-0.000430</td>\n",
       "      <td>-0.195026</td>\n",
       "      <td>0.018992</td>\n",
       "      <td>-0.054934</td>\n",
       "      <td>0.041898</td>\n",
       "      <td>0.025699</td>\n",
       "      <td>1.000000</td>\n",
       "      <td>0.174272</td>\n",
       "      <td>0.075717</td>\n",
       "      <td>-0.165071</td>\n",
       "    </tr>\n",
       "    <tr>\n",
       "      <th>Total_Stops</th>\n",
       "      <td>0.037995</td>\n",
       "      <td>-0.052247</td>\n",
       "      <td>-0.233770</td>\n",
       "      <td>0.354053</td>\n",
       "      <td>-0.448949</td>\n",
       "      <td>0.045662</td>\n",
       "      <td>-0.103350</td>\n",
       "      <td>0.174272</td>\n",
       "      <td>1.000000</td>\n",
       "      <td>0.165082</td>\n",
       "      <td>-0.623468</td>\n",
       "    </tr>\n",
       "    <tr>\n",
       "      <th>Additional_Info</th>\n",
       "      <td>-0.108317</td>\n",
       "      <td>-0.005269</td>\n",
       "      <td>-0.036431</td>\n",
       "      <td>0.046003</td>\n",
       "      <td>0.031258</td>\n",
       "      <td>-0.063272</td>\n",
       "      <td>0.013611</td>\n",
       "      <td>0.075717</td>\n",
       "      <td>0.165082</td>\n",
       "      <td>1.000000</td>\n",
       "      <td>-0.045193</td>\n",
       "    </tr>\n",
       "    <tr>\n",
       "      <th>Price</th>\n",
       "      <td>-0.026710</td>\n",
       "      <td>0.019842</td>\n",
       "      <td>0.073826</td>\n",
       "      <td>-0.166970</td>\n",
       "      <td>0.240948</td>\n",
       "      <td>-0.000834</td>\n",
       "      <td>0.049222</td>\n",
       "      <td>-0.165071</td>\n",
       "      <td>-0.623468</td>\n",
       "      <td>-0.045193</td>\n",
       "      <td>1.000000</td>\n",
       "    </tr>\n",
       "  </tbody>\n",
       "</table>\n",
       "</div>"
      ],
      "text/plain": [
       "                  Airline  Date_of_Journey    Source  Destination     Route  \\\n",
       "Airline          1.000000         0.014944 -0.013853     0.023310  0.002370   \n",
       "Date_of_Journey  0.014944         1.000000  0.149661    -0.250873  0.257569   \n",
       "Source          -0.013853         0.149661  1.000000    -0.581120  0.384375   \n",
       "Destination      0.023310        -0.250873 -0.581120     1.000000 -0.433271   \n",
       "Route            0.002370         0.257569  0.384375    -0.433271  1.000000   \n",
       "Dep_Time        -0.018569        -0.011117  0.057423    -0.066174 -0.085590   \n",
       "Arrival_Time    -0.016879        -0.010311  0.022712    -0.042090  0.018393   \n",
       "Duration         0.027431        -0.000430 -0.195026     0.018992 -0.054934   \n",
       "Total_Stops      0.037995        -0.052247 -0.233770     0.354053 -0.448949   \n",
       "Additional_Info -0.108317        -0.005269 -0.036431     0.046003  0.031258   \n",
       "Price           -0.026710         0.019842  0.073826    -0.166970  0.240948   \n",
       "\n",
       "                 Dep_Time  Arrival_Time  Duration  Total_Stops  \\\n",
       "Airline         -0.018569     -0.016879  0.027431     0.037995   \n",
       "Date_of_Journey -0.011117     -0.010311 -0.000430    -0.052247   \n",
       "Source           0.057423      0.022712 -0.195026    -0.233770   \n",
       "Destination     -0.066174     -0.042090  0.018992     0.354053   \n",
       "Route           -0.085590      0.018393 -0.054934    -0.448949   \n",
       "Dep_Time         1.000000     -0.030878  0.041898     0.045662   \n",
       "Arrival_Time    -0.030878      1.000000  0.025699    -0.103350   \n",
       "Duration         0.041898      0.025699  1.000000     0.174272   \n",
       "Total_Stops      0.045662     -0.103350  0.174272     1.000000   \n",
       "Additional_Info -0.063272      0.013611  0.075717     0.165082   \n",
       "Price           -0.000834      0.049222 -0.165071    -0.623468   \n",
       "\n",
       "                 Additional_Info     Price  \n",
       "Airline                -0.108317 -0.026710  \n",
       "Date_of_Journey        -0.005269  0.019842  \n",
       "Source                 -0.036431  0.073826  \n",
       "Destination             0.046003 -0.166970  \n",
       "Route                   0.031258  0.240948  \n",
       "Dep_Time               -0.063272 -0.000834  \n",
       "Arrival_Time            0.013611  0.049222  \n",
       "Duration                0.075717 -0.165071  \n",
       "Total_Stops             0.165082 -0.623468  \n",
       "Additional_Info         1.000000 -0.045193  \n",
       "Price                  -0.045193  1.000000  "
      ]
     },
     "execution_count": 45,
     "metadata": {},
     "output_type": "execute_result"
    }
   ],
   "source": [
    "df.corr()"
   ]
  },
  {
   "cell_type": "code",
   "execution_count": 46,
   "metadata": {},
   "outputs": [],
   "source": [
    "# with the following function we can select highly correlated features\n",
    "# it will remove the first feature that is correlated with anything other feature\n",
    "\n",
    "def correlation(dataset, threshold):\n",
    "    col_corr = set()  # Set of all the names of correlated columns\n",
    "    corr_matrix = dataset.corr()\n",
    "    for i in range(len(corr_matrix.columns)):\n",
    "        for j in range(i):\n",
    "            if abs(corr_matrix.iloc[i, j]) > threshold: # we are interested in absolute coeff value\n",
    "                colname = corr_matrix.columns[i]  # getting the name of column\n",
    "                col_corr.add(colname)\n",
    "    return col_corr"
   ]
  },
  {
   "cell_type": "code",
   "execution_count": 47,
   "metadata": {},
   "outputs": [
    {
     "data": {
      "text/plain": [
       "1"
      ]
     },
     "execution_count": 47,
     "metadata": {},
     "output_type": "execute_result"
    }
   ],
   "source": [
    "corr_features = correlation(df, 0.6)\n",
    "len(set(corr_features))"
   ]
  },
  {
   "cell_type": "code",
   "execution_count": 48,
   "metadata": {},
   "outputs": [
    {
     "data": {
      "text/plain": [
       "{'Price'}"
      ]
     },
     "execution_count": 48,
     "metadata": {},
     "output_type": "execute_result"
    }
   ],
   "source": [
    "corr_features"
   ]
  },
  {
   "cell_type": "code",
   "execution_count": 49,
   "metadata": {},
   "outputs": [],
   "source": [
    "# # As we need Description and Lp is needed for analysis, so we drop only Groupcode and Typecode\n",
    "# df=df.drop('Description', axis=1)\n",
    "# df=df.drop('Typecode', axis=1)\n",
    "# df"
   ]
  },
  {
   "cell_type": "markdown",
   "metadata": {},
   "source": [
    "# Information gain - mutual information In Regression"
   ]
  },
  {
   "cell_type": "code",
   "execution_count": 50,
   "metadata": {},
   "outputs": [
    {
     "data": {
      "text/html": [
       "<div>\n",
       "<style scoped>\n",
       "    .dataframe tbody tr th:only-of-type {\n",
       "        vertical-align: middle;\n",
       "    }\n",
       "\n",
       "    .dataframe tbody tr th {\n",
       "        vertical-align: top;\n",
       "    }\n",
       "\n",
       "    .dataframe thead th {\n",
       "        text-align: right;\n",
       "    }\n",
       "</style>\n",
       "<table border=\"1\" class=\"dataframe\">\n",
       "  <thead>\n",
       "    <tr style=\"text-align: right;\">\n",
       "      <th></th>\n",
       "      <th>Airline</th>\n",
       "      <th>Date_of_Journey</th>\n",
       "      <th>Source</th>\n",
       "      <th>Destination</th>\n",
       "      <th>Route</th>\n",
       "      <th>Dep_Time</th>\n",
       "      <th>Arrival_Time</th>\n",
       "      <th>Duration</th>\n",
       "      <th>Total_Stops</th>\n",
       "      <th>Additional_Info</th>\n",
       "    </tr>\n",
       "  </thead>\n",
       "  <tbody>\n",
       "    <tr>\n",
       "      <th>0</th>\n",
       "      <td>3</td>\n",
       "      <td>24</td>\n",
       "      <td>0</td>\n",
       "      <td>5</td>\n",
       "      <td>18</td>\n",
       "      <td>211</td>\n",
       "      <td>230</td>\n",
       "      <td>240</td>\n",
       "      <td>4</td>\n",
       "      <td>5</td>\n",
       "    </tr>\n",
       "    <tr>\n",
       "      <th>1</th>\n",
       "      <td>1</td>\n",
       "      <td>6</td>\n",
       "      <td>3</td>\n",
       "      <td>0</td>\n",
       "      <td>82</td>\n",
       "      <td>31</td>\n",
       "      <td>898</td>\n",
       "      <td>336</td>\n",
       "      <td>1</td>\n",
       "      <td>5</td>\n",
       "    </tr>\n",
       "    <tr>\n",
       "      <th>2</th>\n",
       "      <td>4</td>\n",
       "      <td>43</td>\n",
       "      <td>2</td>\n",
       "      <td>1</td>\n",
       "      <td>116</td>\n",
       "      <td>70</td>\n",
       "      <td>409</td>\n",
       "      <td>106</td>\n",
       "      <td>1</td>\n",
       "      <td>5</td>\n",
       "    </tr>\n",
       "    <tr>\n",
       "      <th>3</th>\n",
       "      <td>3</td>\n",
       "      <td>10</td>\n",
       "      <td>3</td>\n",
       "      <td>0</td>\n",
       "      <td>89</td>\n",
       "      <td>164</td>\n",
       "      <td>1310</td>\n",
       "      <td>311</td>\n",
       "      <td>0</td>\n",
       "      <td>5</td>\n",
       "    </tr>\n",
       "    <tr>\n",
       "      <th>4</th>\n",
       "      <td>3</td>\n",
       "      <td>0</td>\n",
       "      <td>0</td>\n",
       "      <td>5</td>\n",
       "      <td>29</td>\n",
       "      <td>149</td>\n",
       "      <td>1225</td>\n",
       "      <td>303</td>\n",
       "      <td>0</td>\n",
       "      <td>5</td>\n",
       "    </tr>\n",
       "    <tr>\n",
       "      <th>...</th>\n",
       "      <td>...</td>\n",
       "      <td>...</td>\n",
       "      <td>...</td>\n",
       "      <td>...</td>\n",
       "      <td>...</td>\n",
       "      <td>...</td>\n",
       "      <td>...</td>\n",
       "      <td>...</td>\n",
       "      <td>...</td>\n",
       "      <td>...</td>\n",
       "    </tr>\n",
       "    <tr>\n",
       "      <th>10678</th>\n",
       "      <td>0</td>\n",
       "      <td>41</td>\n",
       "      <td>3</td>\n",
       "      <td>0</td>\n",
       "      <td>62</td>\n",
       "      <td>183</td>\n",
       "      <td>1247</td>\n",
       "      <td>236</td>\n",
       "      <td>4</td>\n",
       "      <td>5</td>\n",
       "    </tr>\n",
       "    <tr>\n",
       "      <th>10679</th>\n",
       "      <td>1</td>\n",
       "      <td>29</td>\n",
       "      <td>3</td>\n",
       "      <td>0</td>\n",
       "      <td>62</td>\n",
       "      <td>193</td>\n",
       "      <td>1292</td>\n",
       "      <td>237</td>\n",
       "      <td>4</td>\n",
       "      <td>5</td>\n",
       "    </tr>\n",
       "    <tr>\n",
       "      <th>10680</th>\n",
       "      <td>4</td>\n",
       "      <td>29</td>\n",
       "      <td>0</td>\n",
       "      <td>2</td>\n",
       "      <td>18</td>\n",
       "      <td>58</td>\n",
       "      <td>816</td>\n",
       "      <td>280</td>\n",
       "      <td>4</td>\n",
       "      <td>5</td>\n",
       "    </tr>\n",
       "    <tr>\n",
       "      <th>10681</th>\n",
       "      <td>9</td>\n",
       "      <td>0</td>\n",
       "      <td>0</td>\n",
       "      <td>5</td>\n",
       "      <td>18</td>\n",
       "      <td>92</td>\n",
       "      <td>930</td>\n",
       "      <td>238</td>\n",
       "      <td>4</td>\n",
       "      <td>5</td>\n",
       "    </tr>\n",
       "    <tr>\n",
       "      <th>10682</th>\n",
       "      <td>1</td>\n",
       "      <td>42</td>\n",
       "      <td>2</td>\n",
       "      <td>1</td>\n",
       "      <td>106</td>\n",
       "      <td>85</td>\n",
       "      <td>1115</td>\n",
       "      <td>347</td>\n",
       "      <td>1</td>\n",
       "      <td>5</td>\n",
       "    </tr>\n",
       "  </tbody>\n",
       "</table>\n",
       "<p>10368 rows × 10 columns</p>\n",
       "</div>"
      ],
      "text/plain": [
       "       Airline  Date_of_Journey  Source  Destination  Route  Dep_Time  \\\n",
       "0            3               24       0            5     18       211   \n",
       "1            1                6       3            0     82        31   \n",
       "2            4               43       2            1    116        70   \n",
       "3            3               10       3            0     89       164   \n",
       "4            3                0       0            5     29       149   \n",
       "...        ...              ...     ...          ...    ...       ...   \n",
       "10678        0               41       3            0     62       183   \n",
       "10679        1               29       3            0     62       193   \n",
       "10680        4               29       0            2     18        58   \n",
       "10681        9                0       0            5     18        92   \n",
       "10682        1               42       2            1    106        85   \n",
       "\n",
       "       Arrival_Time  Duration  Total_Stops  Additional_Info  \n",
       "0               230       240            4                5  \n",
       "1               898       336            1                5  \n",
       "2               409       106            1                5  \n",
       "3              1310       311            0                5  \n",
       "4              1225       303            0                5  \n",
       "...             ...       ...          ...              ...  \n",
       "10678          1247       236            4                5  \n",
       "10679          1292       237            4                5  \n",
       "10680           816       280            4                5  \n",
       "10681           930       238            4                5  \n",
       "10682          1115       347            1                5  \n",
       "\n",
       "[10368 rows x 10 columns]"
      ]
     },
     "execution_count": 50,
     "metadata": {},
     "output_type": "execute_result"
    }
   ],
   "source": [
    "# split dep and indep\n",
    "x_indep = df.drop('Price',axis=1)\n",
    "x_indep"
   ]
  },
  {
   "cell_type": "code",
   "execution_count": 51,
   "metadata": {},
   "outputs": [
    {
     "data": {
      "text/plain": [
       "0         3897\n",
       "1         7662\n",
       "2        13882\n",
       "3         6218\n",
       "4        13302\n",
       "         ...  \n",
       "10678     4107\n",
       "10679     4145\n",
       "10680     7229\n",
       "10681    12648\n",
       "10682    11753\n",
       "Name: Price, Length: 10368, dtype: int64"
      ]
     },
     "execution_count": 51,
     "metadata": {},
     "output_type": "execute_result"
    }
   ],
   "source": [
    "y_dep = df.Price\n",
    "y_dep"
   ]
  },
  {
   "cell_type": "markdown",
   "metadata": {},
   "source": [
    "# Feature Importance"
   ]
  },
  {
   "cell_type": "markdown",
   "metadata": {},
   "source": [
    "# Information gain - mutual information In Regression"
   ]
  },
  {
   "cell_type": "code",
   "execution_count": 52,
   "metadata": {},
   "outputs": [],
   "source": [
    "## It is always a good practice to split train and test data to avoid\n",
    "#overfitting\n",
    "from sklearn.model_selection import train_test_split\n",
    "X_train,X_test,y_train,y_test=train_test_split(x_indep,y_dep,\n",
    "    test_size=0.2,\n",
    "    random_state=0)"
   ]
  },
  {
   "cell_type": "code",
   "execution_count": 53,
   "metadata": {},
   "outputs": [
    {
     "data": {
      "text/plain": [
       "array([0.89193025, 0.20628682, 0.95601239, 0.73990701, 0.97914594,\n",
       "       0.27991018, 0.38985556, 0.56989545, 0.54185542, 0.49375631])"
      ]
     },
     "execution_count": 53,
     "metadata": {},
     "output_type": "execute_result"
    }
   ],
   "source": [
    "from sklearn.feature_selection import mutual_info_regression\n",
    "# determine the mutual information\n",
    "mutual_info = mutual_info_regression(X_train, y_train)\n",
    "mutual_info"
   ]
  },
  {
   "cell_type": "code",
   "execution_count": 54,
   "metadata": {},
   "outputs": [
    {
     "data": {
      "text/plain": [
       "Route              0.979146\n",
       "Source             0.956012\n",
       "Airline            0.891930\n",
       "Destination        0.739907\n",
       "Duration           0.569895\n",
       "Total_Stops        0.541855\n",
       "Additional_Info    0.493756\n",
       "Arrival_Time       0.389856\n",
       "Dep_Time           0.279910\n",
       "Date_of_Journey    0.206287\n",
       "dtype: float64"
      ]
     },
     "execution_count": 54,
     "metadata": {},
     "output_type": "execute_result"
    }
   ],
   "source": [
    "mutual_info = pd.Series(mutual_info)\n",
    "mutual_info.index = X_train.columns\n",
    "mutual_info.sort_values(ascending=False)"
   ]
  },
  {
   "cell_type": "code",
   "execution_count": 55,
   "metadata": {},
   "outputs": [
    {
     "data": {
      "text/plain": [
       "<AxesSubplot:>"
      ]
     },
     "execution_count": 55,
     "metadata": {},
     "output_type": "execute_result"
    },
    {
     "data": {
      "image/png": "[encoded data removed]",
      "text/plain": [
       "<Figure size 1080x360 with 1 Axes>"
      ]
     },
     "metadata": {
      "needs_background": "light"
     },
     "output_type": "display_data"
    }
   ],
   "source": [
    "mutual_info.sort_values(ascending=False).plot.bar(figsize=(15,5))"
   ]
  },
  {
   "cell_type": "code",
   "execution_count": 56,
   "metadata": {},
   "outputs": [],
   "source": [
    "from sklearn.feature_selection import SelectPercentile"
   ]
  },
  {
   "cell_type": "code",
   "execution_count": 57,
   "metadata": {},
   "outputs": [
    {
     "data": {
      "text/plain": [
       "SelectPercentile(percentile=60,\n",
       "                 score_func=<function mutual_info_regression at 0x120efd440>)"
      ]
     },
     "execution_count": 57,
     "metadata": {},
     "output_type": "execute_result"
    }
   ],
   "source": [
    "## Selecting the top 50 percentile\n",
    "selected_top_columns = SelectPercentile(mutual_info_regression, percentile=60)\n",
    "selected_top_columns.fit(X_train, y_train)"
   ]
  },
  {
   "cell_type": "code",
   "execution_count": 58,
   "metadata": {},
   "outputs": [
    {
     "data": {
      "text/plain": [
       "array([ True, False,  True,  True,  True, False, False,  True,  True,\n",
       "       False])"
      ]
     },
     "execution_count": 58,
     "metadata": {},
     "output_type": "execute_result"
    }
   ],
   "source": [
    "selected_top_columns.get_support()"
   ]
  },
  {
   "cell_type": "code",
   "execution_count": 59,
   "metadata": {},
   "outputs": [
    {
     "data": {
      "text/plain": [
       "Index(['Airline', 'Source', 'Destination', 'Route', 'Duration', 'Total_Stops'], dtype='object')"
      ]
     },
     "execution_count": 59,
     "metadata": {},
     "output_type": "execute_result"
    }
   ],
   "source": [
    "X_train.columns[selected_top_columns.get_support()]"
   ]
  },
  {
   "cell_type": "code",
   "execution_count": 60,
   "metadata": {},
   "outputs": [],
   "source": [
    "df=df.drop(['Route'], axis=1) #we don't need it as we already have total_stops"
   ]
  },
  {
   "cell_type": "code",
   "execution_count": 61,
   "metadata": {},
   "outputs": [],
   "source": [
    "# As we found in mutual_info_regression 70 percent of fields are considered for analysis, \n",
    "#as i feel droping only Duration and Arrival_Time will be helpful for analysis and \n",
    "# and with deployment point of view passengar does not need to set arrival time\n",
    "#and for small destination flight passenger cannot choose different longer duration hours, so we drop both\n",
    "df=df.drop('Duration', axis=1)\n",
    "df=df.drop('Arrival_Time', axis=1)"
   ]
  },
  {
   "cell_type": "code",
   "execution_count": 62,
   "metadata": {},
   "outputs": [
    {
     "data": {
      "text/html": [
       "<div>\n",
       "<style scoped>\n",
       "    .dataframe tbody tr th:only-of-type {\n",
       "        vertical-align: middle;\n",
       "    }\n",
       "\n",
       "    .dataframe tbody tr th {\n",
       "        vertical-align: top;\n",
       "    }\n",
       "\n",
       "    .dataframe thead th {\n",
       "        text-align: right;\n",
       "    }\n",
       "</style>\n",
       "<table border=\"1\" class=\"dataframe\">\n",
       "  <thead>\n",
       "    <tr style=\"text-align: right;\">\n",
       "      <th></th>\n",
       "      <th>Airline</th>\n",
       "      <th>Date_of_Journey</th>\n",
       "      <th>Source</th>\n",
       "      <th>Destination</th>\n",
       "      <th>Dep_Time</th>\n",
       "      <th>Total_Stops</th>\n",
       "      <th>Additional_Info</th>\n",
       "      <th>Price</th>\n",
       "    </tr>\n",
       "  </thead>\n",
       "  <tbody>\n",
       "    <tr>\n",
       "      <th>0</th>\n",
       "      <td>3</td>\n",
       "      <td>24</td>\n",
       "      <td>0</td>\n",
       "      <td>5</td>\n",
       "      <td>211</td>\n",
       "      <td>4</td>\n",
       "      <td>5</td>\n",
       "      <td>3897</td>\n",
       "    </tr>\n",
       "    <tr>\n",
       "      <th>1</th>\n",
       "      <td>1</td>\n",
       "      <td>6</td>\n",
       "      <td>3</td>\n",
       "      <td>0</td>\n",
       "      <td>31</td>\n",
       "      <td>1</td>\n",
       "      <td>5</td>\n",
       "      <td>7662</td>\n",
       "    </tr>\n",
       "    <tr>\n",
       "      <th>2</th>\n",
       "      <td>4</td>\n",
       "      <td>43</td>\n",
       "      <td>2</td>\n",
       "      <td>1</td>\n",
       "      <td>70</td>\n",
       "      <td>1</td>\n",
       "      <td>5</td>\n",
       "      <td>13882</td>\n",
       "    </tr>\n",
       "    <tr>\n",
       "      <th>3</th>\n",
       "      <td>3</td>\n",
       "      <td>10</td>\n",
       "      <td>3</td>\n",
       "      <td>0</td>\n",
       "      <td>164</td>\n",
       "      <td>0</td>\n",
       "      <td>5</td>\n",
       "      <td>6218</td>\n",
       "    </tr>\n",
       "    <tr>\n",
       "      <th>4</th>\n",
       "      <td>3</td>\n",
       "      <td>0</td>\n",
       "      <td>0</td>\n",
       "      <td>5</td>\n",
       "      <td>149</td>\n",
       "      <td>0</td>\n",
       "      <td>5</td>\n",
       "      <td>13302</td>\n",
       "    </tr>\n",
       "    <tr>\n",
       "      <th>...</th>\n",
       "      <td>...</td>\n",
       "      <td>...</td>\n",
       "      <td>...</td>\n",
       "      <td>...</td>\n",
       "      <td>...</td>\n",
       "      <td>...</td>\n",
       "      <td>...</td>\n",
       "      <td>...</td>\n",
       "    </tr>\n",
       "    <tr>\n",
       "      <th>10678</th>\n",
       "      <td>0</td>\n",
       "      <td>41</td>\n",
       "      <td>3</td>\n",
       "      <td>0</td>\n",
       "      <td>183</td>\n",
       "      <td>4</td>\n",
       "      <td>5</td>\n",
       "      <td>4107</td>\n",
       "    </tr>\n",
       "    <tr>\n",
       "      <th>10679</th>\n",
       "      <td>1</td>\n",
       "      <td>29</td>\n",
       "      <td>3</td>\n",
       "      <td>0</td>\n",
       "      <td>193</td>\n",
       "      <td>4</td>\n",
       "      <td>5</td>\n",
       "      <td>4145</td>\n",
       "    </tr>\n",
       "    <tr>\n",
       "      <th>10680</th>\n",
       "      <td>4</td>\n",
       "      <td>29</td>\n",
       "      <td>0</td>\n",
       "      <td>2</td>\n",
       "      <td>58</td>\n",
       "      <td>4</td>\n",
       "      <td>5</td>\n",
       "      <td>7229</td>\n",
       "    </tr>\n",
       "    <tr>\n",
       "      <th>10681</th>\n",
       "      <td>9</td>\n",
       "      <td>0</td>\n",
       "      <td>0</td>\n",
       "      <td>5</td>\n",
       "      <td>92</td>\n",
       "      <td>4</td>\n",
       "      <td>5</td>\n",
       "      <td>12648</td>\n",
       "    </tr>\n",
       "    <tr>\n",
       "      <th>10682</th>\n",
       "      <td>1</td>\n",
       "      <td>42</td>\n",
       "      <td>2</td>\n",
       "      <td>1</td>\n",
       "      <td>85</td>\n",
       "      <td>1</td>\n",
       "      <td>5</td>\n",
       "      <td>11753</td>\n",
       "    </tr>\n",
       "  </tbody>\n",
       "</table>\n",
       "<p>10368 rows × 8 columns</p>\n",
       "</div>"
      ],
      "text/plain": [
       "       Airline  Date_of_Journey  Source  Destination  Dep_Time  Total_Stops  \\\n",
       "0            3               24       0            5       211            4   \n",
       "1            1                6       3            0        31            1   \n",
       "2            4               43       2            1        70            1   \n",
       "3            3               10       3            0       164            0   \n",
       "4            3                0       0            5       149            0   \n",
       "...        ...              ...     ...          ...       ...          ...   \n",
       "10678        0               41       3            0       183            4   \n",
       "10679        1               29       3            0       193            4   \n",
       "10680        4               29       0            2        58            4   \n",
       "10681        9                0       0            5        92            4   \n",
       "10682        1               42       2            1        85            1   \n",
       "\n",
       "       Additional_Info  Price  \n",
       "0                    5   3897  \n",
       "1                    5   7662  \n",
       "2                    5  13882  \n",
       "3                    5   6218  \n",
       "4                    5  13302  \n",
       "...                ...    ...  \n",
       "10678                5   4107  \n",
       "10679                5   4145  \n",
       "10680                5   7229  \n",
       "10681                5  12648  \n",
       "10682                5  11753  \n",
       "\n",
       "[10368 rows x 8 columns]"
      ]
     },
     "execution_count": 62,
     "metadata": {},
     "output_type": "execute_result"
    }
   ],
   "source": [
    "df"
   ]
  },
  {
   "cell_type": "markdown",
   "metadata": {},
   "source": [
    "# Gradient Boosting Regressor"
   ]
  },
  {
   "cell_type": "code",
   "execution_count": 104,
   "metadata": {},
   "outputs": [],
   "source": [
    "from sklearn import preprocessing"
   ]
  },
  {
   "cell_type": "code",
   "execution_count": 105,
   "metadata": {},
   "outputs": [],
   "source": [
    "from sklearn.ensemble import GradientBoostingRegressor"
   ]
  },
  {
   "cell_type": "code",
   "execution_count": 106,
   "metadata": {},
   "outputs": [],
   "source": [
    "from sklearn.model_selection import GridSearchCV, cross_val_score"
   ]
  },
  {
   "cell_type": "code",
   "execution_count": 107,
   "metadata": {},
   "outputs": [],
   "source": [
    "gb = GradientBoostingRegressor()"
   ]
  },
  {
   "cell_type": "code",
   "execution_count": 108,
   "metadata": {},
   "outputs": [
    {
     "name": "stderr",
     "output_type": "stream",
     "text": [
      "/Users/jeevitha_vignesh/opt/anaconda3/envs/tensor_flow_py/lib/python3.7/site-packages/sklearn/model_selection/_search.py:925: UserWarning: One or more of the test scores are non-finite: [              nan -1820558.37222858 -1778852.56806246 -1798307.65198456\n",
      "               nan -1844997.88336056 -1839631.94421212 -1802715.80192845\n",
      "               nan -1962333.22107353 -1893737.93552859 -1861300.88957983\n",
      "               nan -2058867.13714574 -1974882.65535375 -1945023.45533591\n",
      "               nan -2180639.11921097 -2076582.11511056 -2006220.24281758\n",
      "               nan -2299190.18776508 -2168571.73487592 -2091039.27583632\n",
      "               nan -2450366.09558564 -2272255.70797894 -2177287.92215424]\n",
      "  category=UserWarning\n"
     ]
    },
    {
     "name": "stdout",
     "output_type": "stream",
     "text": [
      "{'max_depth': 8, 'min_samples_split': 7}\n",
      "1778852.5680624596\n"
     ]
    }
   ],
   "source": [
    "gbm = GridSearchCV(gb,\n",
    "                     param_grid = {'max_depth': range(8, 15),\n",
    "                                  'min_samples_split': range(1, 11, 3)},\n",
    "                     cv=5,\n",
    "                     n_jobs=-1,\n",
    "                     scoring='neg_mean_squared_error', refit=True,)\n",
    "                      \n",
    "gbm.fit(X_train, y_train)\n",
    "\n",
    "print(gbm.best_params_)\n",
    "print(-gbm.best_score_)"
   ]
  },
  {
   "cell_type": "code",
   "execution_count": 109,
   "metadata": {},
   "outputs": [],
   "source": [
    "# Initiate the best model\n",
    "model_GB = GradientBoostingRegressor(max_depth=8, min_samples_split=7)"
   ]
  },
  {
   "cell_type": "code",
   "execution_count": 110,
   "metadata": {},
   "outputs": [
    {
     "data": {
      "text/html": [
       "<div>\n",
       "<style scoped>\n",
       "    .dataframe tbody tr th:only-of-type {\n",
       "        vertical-align: middle;\n",
       "    }\n",
       "\n",
       "    .dataframe tbody tr th {\n",
       "        vertical-align: top;\n",
       "    }\n",
       "\n",
       "    .dataframe thead th {\n",
       "        text-align: right;\n",
       "    }\n",
       "</style>\n",
       "<table border=\"1\" class=\"dataframe\">\n",
       "  <thead>\n",
       "    <tr style=\"text-align: right;\">\n",
       "      <th></th>\n",
       "      <th>Airline</th>\n",
       "      <th>Date_of_Journey</th>\n",
       "      <th>Source</th>\n",
       "      <th>Destination</th>\n",
       "      <th>Dep_Time</th>\n",
       "      <th>Total_Stops</th>\n",
       "      <th>Additional_Info</th>\n",
       "    </tr>\n",
       "  </thead>\n",
       "  <tbody>\n",
       "    <tr>\n",
       "      <th>5418</th>\n",
       "      <td>1</td>\n",
       "      <td>16</td>\n",
       "      <td>0</td>\n",
       "      <td>5</td>\n",
       "      <td>82</td>\n",
       "      <td>1</td>\n",
       "      <td>5</td>\n",
       "    </tr>\n",
       "    <tr>\n",
       "      <th>7918</th>\n",
       "      <td>4</td>\n",
       "      <td>31</td>\n",
       "      <td>2</td>\n",
       "      <td>1</td>\n",
       "      <td>46</td>\n",
       "      <td>0</td>\n",
       "      <td>5</td>\n",
       "    </tr>\n",
       "    <tr>\n",
       "      <th>1351</th>\n",
       "      <td>4</td>\n",
       "      <td>22</td>\n",
       "      <td>2</td>\n",
       "      <td>1</td>\n",
       "      <td>9</td>\n",
       "      <td>0</td>\n",
       "      <td>5</td>\n",
       "    </tr>\n",
       "    <tr>\n",
       "      <th>4606</th>\n",
       "      <td>0</td>\n",
       "      <td>23</td>\n",
       "      <td>0</td>\n",
       "      <td>2</td>\n",
       "      <td>88</td>\n",
       "      <td>4</td>\n",
       "      <td>5</td>\n",
       "    </tr>\n",
       "    <tr>\n",
       "      <th>8791</th>\n",
       "      <td>2</td>\n",
       "      <td>12</td>\n",
       "      <td>0</td>\n",
       "      <td>5</td>\n",
       "      <td>53</td>\n",
       "      <td>4</td>\n",
       "      <td>5</td>\n",
       "    </tr>\n",
       "    <tr>\n",
       "      <th>...</th>\n",
       "      <td>...</td>\n",
       "      <td>...</td>\n",
       "      <td>...</td>\n",
       "      <td>...</td>\n",
       "      <td>...</td>\n",
       "      <td>...</td>\n",
       "      <td>...</td>\n",
       "    </tr>\n",
       "    <tr>\n",
       "      <th>9474</th>\n",
       "      <td>5</td>\n",
       "      <td>31</td>\n",
       "      <td>2</td>\n",
       "      <td>1</td>\n",
       "      <td>105</td>\n",
       "      <td>0</td>\n",
       "      <td>2</td>\n",
       "    </tr>\n",
       "    <tr>\n",
       "      <th>4953</th>\n",
       "      <td>4</td>\n",
       "      <td>16</td>\n",
       "      <td>0</td>\n",
       "      <td>5</td>\n",
       "      <td>150</td>\n",
       "      <td>0</td>\n",
       "      <td>5</td>\n",
       "    </tr>\n",
       "    <tr>\n",
       "      <th>3326</th>\n",
       "      <td>1</td>\n",
       "      <td>39</td>\n",
       "      <td>3</td>\n",
       "      <td>0</td>\n",
       "      <td>98</td>\n",
       "      <td>0</td>\n",
       "      <td>5</td>\n",
       "    </tr>\n",
       "    <tr>\n",
       "      <th>10124</th>\n",
       "      <td>5</td>\n",
       "      <td>30</td>\n",
       "      <td>2</td>\n",
       "      <td>1</td>\n",
       "      <td>15</td>\n",
       "      <td>0</td>\n",
       "      <td>5</td>\n",
       "    </tr>\n",
       "    <tr>\n",
       "      <th>2780</th>\n",
       "      <td>0</td>\n",
       "      <td>40</td>\n",
       "      <td>3</td>\n",
       "      <td>0</td>\n",
       "      <td>215</td>\n",
       "      <td>4</td>\n",
       "      <td>5</td>\n",
       "    </tr>\n",
       "  </tbody>\n",
       "</table>\n",
       "<p>8294 rows × 7 columns</p>\n",
       "</div>"
      ],
      "text/plain": [
       "       Airline  Date_of_Journey  Source  Destination  Dep_Time  Total_Stops  \\\n",
       "5418         1               16       0            5        82            1   \n",
       "7918         4               31       2            1        46            0   \n",
       "1351         4               22       2            1         9            0   \n",
       "4606         0               23       0            2        88            4   \n",
       "8791         2               12       0            5        53            4   \n",
       "...        ...              ...     ...          ...       ...          ...   \n",
       "9474         5               31       2            1       105            0   \n",
       "4953         4               16       0            5       150            0   \n",
       "3326         1               39       3            0        98            0   \n",
       "10124        5               30       2            1        15            0   \n",
       "2780         0               40       3            0       215            4   \n",
       "\n",
       "       Additional_Info  \n",
       "5418                 5  \n",
       "7918                 5  \n",
       "1351                 5  \n",
       "4606                 5  \n",
       "8791                 5  \n",
       "...                ...  \n",
       "9474                 2  \n",
       "4953                 5  \n",
       "3326                 5  \n",
       "10124                5  \n",
       "2780                 5  \n",
       "\n",
       "[8294 rows x 7 columns]"
      ]
     },
     "execution_count": 110,
     "metadata": {},
     "output_type": "execute_result"
    }
   ],
   "source": [
    "X_train"
   ]
  },
  {
   "cell_type": "code",
   "execution_count": 111,
   "metadata": {},
   "outputs": [],
   "source": [
    "model_GBfit = model_GB.fit(X_train, y_train)"
   ]
  },
  {
   "cell_type": "code",
   "execution_count": 112,
   "metadata": {},
   "outputs": [
    {
     "data": {
      "text/plain": [
       "array([10549.38435414, 12457.93885717,  3758.22445447, ...,\n",
       "       13089.46102544, 11587.18048977, 13599.46245807])"
      ]
     },
     "execution_count": 112,
     "metadata": {},
     "output_type": "execute_result"
    }
   ],
   "source": [
    "Predict_model1 = model_GBfit.predict(X_test)\n",
    "Predict_model1"
   ]
  },
  {
   "cell_type": "code",
   "execution_count": 113,
   "metadata": {},
   "outputs": [
    {
     "data": {
      "text/html": [
       "<div>\n",
       "<style scoped>\n",
       "    .dataframe tbody tr th:only-of-type {\n",
       "        vertical-align: middle;\n",
       "    }\n",
       "\n",
       "    .dataframe tbody tr th {\n",
       "        vertical-align: top;\n",
       "    }\n",
       "\n",
       "    .dataframe thead th {\n",
       "        text-align: right;\n",
       "    }\n",
       "</style>\n",
       "<table border=\"1\" class=\"dataframe\">\n",
       "  <thead>\n",
       "    <tr style=\"text-align: right;\">\n",
       "      <th></th>\n",
       "      <th>actual:</th>\n",
       "      <th>predicted</th>\n",
       "    </tr>\n",
       "  </thead>\n",
       "  <tbody>\n",
       "    <tr>\n",
       "      <th>9600</th>\n",
       "      <td>10262</td>\n",
       "      <td>10549.0</td>\n",
       "    </tr>\n",
       "    <tr>\n",
       "      <th>8099</th>\n",
       "      <td>12760</td>\n",
       "      <td>12458.0</td>\n",
       "    </tr>\n",
       "    <tr>\n",
       "      <th>4266</th>\n",
       "      <td>4284</td>\n",
       "      <td>3758.0</td>\n",
       "    </tr>\n",
       "    <tr>\n",
       "      <th>6321</th>\n",
       "      <td>17135</td>\n",
       "      <td>17706.0</td>\n",
       "    </tr>\n",
       "    <tr>\n",
       "      <th>1311</th>\n",
       "      <td>14178</td>\n",
       "      <td>13926.0</td>\n",
       "    </tr>\n",
       "    <tr>\n",
       "      <th>...</th>\n",
       "      <td>...</td>\n",
       "      <td>...</td>\n",
       "    </tr>\n",
       "    <tr>\n",
       "      <th>282</th>\n",
       "      <td>4030</td>\n",
       "      <td>5059.0</td>\n",
       "    </tr>\n",
       "    <tr>\n",
       "      <th>6013</th>\n",
       "      <td>4439</td>\n",
       "      <td>3943.0</td>\n",
       "    </tr>\n",
       "    <tr>\n",
       "      <th>7762</th>\n",
       "      <td>11542</td>\n",
       "      <td>13089.0</td>\n",
       "    </tr>\n",
       "    <tr>\n",
       "      <th>3813</th>\n",
       "      <td>7888</td>\n",
       "      <td>11587.0</td>\n",
       "    </tr>\n",
       "    <tr>\n",
       "      <th>9420</th>\n",
       "      <td>14388</td>\n",
       "      <td>13599.0</td>\n",
       "    </tr>\n",
       "  </tbody>\n",
       "</table>\n",
       "<p>2074 rows × 2 columns</p>\n",
       "</div>"
      ],
      "text/plain": [
       "      actual:  predicted\n",
       "9600    10262    10549.0\n",
       "8099    12760    12458.0\n",
       "4266     4284     3758.0\n",
       "6321    17135    17706.0\n",
       "1311    14178    13926.0\n",
       "...       ...        ...\n",
       "282      4030     5059.0\n",
       "6013     4439     3943.0\n",
       "7762    11542    13089.0\n",
       "3813     7888    11587.0\n",
       "9420    14388    13599.0\n",
       "\n",
       "[2074 rows x 2 columns]"
      ]
     },
     "execution_count": 113,
     "metadata": {},
     "output_type": "execute_result"
    }
   ],
   "source": [
    "df1=pd.DataFrame({\"actual:\":y_test,\"predicted\":Predict_model1}).round()\n",
    "df1"
   ]
  },
  {
   "cell_type": "code",
   "execution_count": 114,
   "metadata": {},
   "outputs": [],
   "source": [
    "from sklearn.metrics import mean_squared_error"
   ]
  },
  {
   "cell_type": "code",
   "execution_count": 115,
   "metadata": {},
   "outputs": [],
   "source": [
    "import math"
   ]
  },
  {
   "cell_type": "code",
   "execution_count": 116,
   "metadata": {},
   "outputs": [],
   "source": [
    "Actual = y_test"
   ]
  },
  {
   "cell_type": "code",
   "execution_count": 117,
   "metadata": {},
   "outputs": [
    {
     "data": {
      "text/plain": [
       "0.9013975077338013"
      ]
     },
     "execution_count": 117,
     "metadata": {},
     "output_type": "execute_result"
    }
   ],
   "source": [
    "gbm_r2 = r2_score(Actual,Predict_model1)\n",
    "gbm_r2"
   ]
  },
  {
   "cell_type": "code",
   "execution_count": 118,
   "metadata": {},
   "outputs": [
    {
     "data": {
      "text/plain": [
       "1272.4842428933234"
      ]
     },
     "execution_count": 118,
     "metadata": {},
     "output_type": "execute_result"
    }
   ],
   "source": [
    "gbm_rmse=math.sqrt(mean_squared_error(Actual,Predict_model1))\n",
    "gbm_rmse"
   ]
  },
  {
   "cell_type": "markdown",
   "metadata": {},
   "source": [
    "# eXtreme Gradient Boosting"
   ]
  },
  {
   "cell_type": "code",
   "execution_count": 119,
   "metadata": {},
   "outputs": [],
   "source": [
    "from xgboost import XGBRegressor"
   ]
  },
  {
   "cell_type": "code",
   "execution_count": 120,
   "metadata": {},
   "outputs": [],
   "source": [
    "xgb = XGBRegressor()"
   ]
  },
  {
   "cell_type": "code",
   "execution_count": 121,
   "metadata": {},
   "outputs": [],
   "source": [
    "# best_xgb = GridSearchCV(xgb,\n",
    "#                      param_grid = {'max_depth': range(7, 15),\n",
    "#                                   'min_samples_split': range(1, 15)},\n",
    "#                      cv=5,\n",
    "#                      n_jobs=-1,\n",
    "#                      scoring='neg_mean_squared_error',refit=True)\n",
    "                      \n",
    "# best_xgb.fit(X_train, y_train)\n",
    "\n",
    "# print(best_xgb.best_params_)\n",
    "# print(-best_xgb.best_score_)"
   ]
  },
  {
   "cell_type": "code",
   "execution_count": 122,
   "metadata": {},
   "outputs": [],
   "source": [
    "# Initiate the best model\n",
    "best_xgb = XGBRegressor(max_depth=9, min_samples_split=1)"
   ]
  },
  {
   "cell_type": "code",
   "execution_count": 123,
   "metadata": {},
   "outputs": [
    {
     "name": "stdout",
     "output_type": "stream",
     "text": [
      "[08:22:22] WARNING: src/objective/regression_obj.cu:152: reg:linear is now deprecated in favor of reg:squarederror.\n"
     ]
    }
   ],
   "source": [
    "model_xGBfit=best_xgb.fit(X_train, y_train)"
   ]
  },
  {
   "cell_type": "code",
   "execution_count": 124,
   "metadata": {},
   "outputs": [],
   "source": [
    "Predict_model2 = model_xGBfit.predict(X_test)"
   ]
  },
  {
   "cell_type": "code",
   "execution_count": 125,
   "metadata": {},
   "outputs": [
    {
     "data": {
      "text/plain": [
       "0.903381926335712"
      ]
     },
     "execution_count": 125,
     "metadata": {},
     "output_type": "execute_result"
    }
   ],
   "source": [
    "xgbm_r2 = r2_score(Actual,Predict_model2)\n",
    "xgbm_r2"
   ]
  },
  {
   "cell_type": "code",
   "execution_count": 126,
   "metadata": {},
   "outputs": [
    {
     "data": {
      "text/plain": [
       "1259.614508484763"
      ]
     },
     "execution_count": 126,
     "metadata": {},
     "output_type": "execute_result"
    }
   ],
   "source": [
    "xgbm_rmse=math.sqrt(mean_squared_error(Actual,Predict_model2))\n",
    "xgbm_rmse"
   ]
  },
  {
   "cell_type": "markdown",
   "metadata": {},
   "source": [
    "# Decision Tree Regressor"
   ]
  },
  {
   "cell_type": "code",
   "execution_count": 127,
   "metadata": {},
   "outputs": [],
   "source": [
    "from sklearn.tree import DecisionTreeRegressor"
   ]
  },
  {
   "cell_type": "code",
   "execution_count": 128,
   "metadata": {},
   "outputs": [],
   "source": [
    "# Initiate the model\n",
    "dt = DecisionTreeRegressor()"
   ]
  },
  {
   "cell_type": "code",
   "execution_count": 129,
   "metadata": {},
   "outputs": [],
   "source": [
    "# Grid search\n",
    "dt_gs = GridSearchCV(dt,param_grid = {'max_depth': range(1, 11),'min_samples_split': range(10, 60, 10)},cv=5,n_jobs=-1,\n",
    "                     scoring='neg_mean_squared_error',refit=True)"
   ]
  },
  {
   "cell_type": "code",
   "execution_count": 130,
   "metadata": {},
   "outputs": [
    {
     "data": {
      "text/plain": [
       "GridSearchCV(cv=5, estimator=DecisionTreeRegressor(), n_jobs=-1,\n",
       "             param_grid={'max_depth': range(1, 11),\n",
       "                         'min_samples_split': range(10, 60, 10)},\n",
       "             scoring='neg_mean_squared_error')"
      ]
     },
     "execution_count": 130,
     "metadata": {},
     "output_type": "execute_result"
    }
   ],
   "source": [
    "dt_gs.fit(X_train, y_train)"
   ]
  },
  {
   "cell_type": "code",
   "execution_count": 131,
   "metadata": {},
   "outputs": [
    {
     "name": "stdout",
     "output_type": "stream",
     "text": [
      "{'max_depth': 10, 'min_samples_split': 10}\n",
      "3045457.435581736\n"
     ]
    }
   ],
   "source": [
    "print(dt_gs.best_params_)\n",
    "print(-dt_gs.best_score_)"
   ]
  },
  {
   "cell_type": "code",
   "execution_count": 132,
   "metadata": {},
   "outputs": [],
   "source": [
    "# Initiate the best model\n",
    "dt_best_model = DecisionTreeRegressor(max_depth=10, min_samples_split=10)"
   ]
  },
  {
   "cell_type": "code",
   "execution_count": 133,
   "metadata": {},
   "outputs": [],
   "source": [
    "# Fit the best model\n",
    "Decision_model_fit=dt_best_model.fit(X_train, y_train)"
   ]
  },
  {
   "cell_type": "code",
   "execution_count": 134,
   "metadata": {},
   "outputs": [],
   "source": [
    "Predict_model3 = Decision_model_fit.predict(X_test)"
   ]
  },
  {
   "cell_type": "code",
   "execution_count": 190,
   "metadata": {},
   "outputs": [
    {
     "data": {
      "text/plain": [
       "0.837813515894131"
      ]
     },
     "execution_count": 190,
     "metadata": {},
     "output_type": "execute_result"
    }
   ],
   "source": [
    "dt_r2 = r2_score(Actual,Predict_model3)\n",
    "dt_r2"
   ]
  },
  {
   "cell_type": "code",
   "execution_count": 191,
   "metadata": {},
   "outputs": [
    {
     "data": {
      "text/plain": [
       "1631.9836244914025"
      ]
     },
     "execution_count": 191,
     "metadata": {},
     "output_type": "execute_result"
    }
   ],
   "source": [
    "dt_rmse=math.sqrt(mean_squared_error(Actual,Predict_model3))\n",
    "dt_rmse"
   ]
  },
  {
   "cell_type": "markdown",
   "metadata": {},
   "source": [
    "# Random Forest Regressor"
   ]
  },
  {
   "cell_type": "code",
   "execution_count": 137,
   "metadata": {},
   "outputs": [],
   "source": [
    "from sklearn.ensemble import RandomForestRegressor"
   ]
  },
  {
   "cell_type": "code",
   "execution_count": 138,
   "metadata": {},
   "outputs": [],
   "source": [
    "Random_model = RandomForestRegressor()"
   ]
  },
  {
   "cell_type": "code",
   "execution_count": 139,
   "metadata": {},
   "outputs": [],
   "source": [
    "# Grid search\n",
    "rf_gs = GridSearchCV(dt,param_grid = {'max_depth': range(1, 15),'min_samples_split': range(10, 60, 1),\n",
    "                      \"max_features\" : [\"auto\", \"log2\", \"sqrt\"]},\n",
    "                     cv=5,n_jobs=-1,\n",
    "                     scoring='neg_mean_squared_error',refit=True)"
   ]
  },
  {
   "cell_type": "code",
   "execution_count": 140,
   "metadata": {},
   "outputs": [
    {
     "data": {
      "text/plain": [
       "GridSearchCV(cv=5, estimator=DecisionTreeRegressor(), n_jobs=-1,\n",
       "             param_grid={'max_depth': range(1, 15),\n",
       "                         'max_features': ['auto', 'log2', 'sqrt'],\n",
       "                         'min_samples_split': range(10, 60)},\n",
       "             scoring='neg_mean_squared_error')"
      ]
     },
     "execution_count": 140,
     "metadata": {},
     "output_type": "execute_result"
    }
   ],
   "source": [
    "rf_gs.fit(X_train, y_train)"
   ]
  },
  {
   "cell_type": "code",
   "execution_count": 141,
   "metadata": {},
   "outputs": [
    {
     "name": "stdout",
     "output_type": "stream",
     "text": [
      "{'max_depth': 14, 'max_features': 'auto', 'min_samples_split': 16}\n",
      "2667126.5634866436\n"
     ]
    }
   ],
   "source": [
    "print(rf_gs.best_params_)\n",
    "print(-rf_gs.best_score_)"
   ]
  },
  {
   "cell_type": "code",
   "execution_count": 142,
   "metadata": {},
   "outputs": [],
   "source": [
    "# Initiate the best model\n",
    "rf_best_model = RandomForestRegressor(max_depth= 14, max_features= 'auto', min_samples_split= 17)"
   ]
  },
  {
   "cell_type": "code",
   "execution_count": 143,
   "metadata": {},
   "outputs": [],
   "source": [
    "# Fit the best model\n",
    "Random_model=rf_best_model.fit(X_train, y_train)"
   ]
  },
  {
   "cell_type": "code",
   "execution_count": 144,
   "metadata": {},
   "outputs": [],
   "source": [
    "Random_model_fit = Random_model.fit(X_train, y_train)"
   ]
  },
  {
   "cell_type": "code",
   "execution_count": 145,
   "metadata": {},
   "outputs": [],
   "source": [
    "Predict_model4 = Random_model_fit.predict(X_test)"
   ]
  },
  {
   "cell_type": "code",
   "execution_count": 146,
   "metadata": {},
   "outputs": [
    {
     "data": {
      "text/plain": [
       "0.8767986558305698"
      ]
     },
     "execution_count": 146,
     "metadata": {},
     "output_type": "execute_result"
    }
   ],
   "source": [
    "rf_r2 = r2_score(Actual,Predict_model4)\n",
    "rf_r2"
   ]
  },
  {
   "cell_type": "code",
   "execution_count": 188,
   "metadata": {},
   "outputs": [
    {
     "data": {
      "text/plain": [
       "1422.3818113684133"
      ]
     },
     "execution_count": 188,
     "metadata": {},
     "output_type": "execute_result"
    }
   ],
   "source": [
    "rf_rmse=math.sqrt(mean_squared_error(Actual,Predict_model4))\n",
    "rf_rmse"
   ]
  },
  {
   "cell_type": "markdown",
   "metadata": {},
   "source": [
    "# Artificial Neural Network"
   ]
  },
  {
   "cell_type": "code",
   "execution_count": 148,
   "metadata": {},
   "outputs": [],
   "source": [
    "from sklearn.preprocessing import scale"
   ]
  },
  {
   "cell_type": "code",
   "execution_count": 149,
   "metadata": {},
   "outputs": [],
   "source": [
    "x_idep1=df.drop([\"Price\"], axis=1)"
   ]
  },
  {
   "cell_type": "code",
   "execution_count": 150,
   "metadata": {},
   "outputs": [],
   "source": [
    "y_idep1=df.Price"
   ]
  },
  {
   "cell_type": "code",
   "execution_count": 151,
   "metadata": {},
   "outputs": [
    {
     "data": {
      "text/plain": [
       "array([[-0.36428743,  0.01102565, -1.6668569 , ...,  1.69652415,\n",
       "         1.38455378,  0.50646992],\n",
       "       [-1.34658448, -1.45977501,  0.87660449, ..., -1.26360468,\n",
       "        -0.25959392,  0.50646992],\n",
       "       [ 0.12686109,  1.56353745,  0.02878403, ..., -0.62224343,\n",
       "        -0.25959392,  0.50646992],\n",
       "       ...,\n",
       "       [ 0.12686109,  0.41958138, -1.6668569 , ..., -0.81958535,\n",
       "         1.38455378,  0.50646992],\n",
       "       [ 2.58260369, -1.9500419 , -1.6668569 , ..., -0.26044991,\n",
       "         1.38455378,  0.50646992],\n",
       "       [-1.34658448,  1.48182631,  0.02878403, ..., -0.37556603,\n",
       "        -0.25959392,  0.50646992]])"
      ]
     },
     "execution_count": 151,
     "metadata": {},
     "output_type": "execute_result"
    }
   ],
   "source": [
    "x_idep1 = scale(x_idep1)\n",
    "x_idep1\n",
    "\n"
   ]
  },
  {
   "cell_type": "code",
   "execution_count": 152,
   "metadata": {},
   "outputs": [],
   "source": [
    "from sklearn.model_selection import train_test_split"
   ]
  },
  {
   "cell_type": "code",
   "execution_count": 153,
   "metadata": {},
   "outputs": [],
   "source": [
    "xtrain, xtest, ytrain, ytest = train_test_split(x_idep1,y_idep1,test_size=0.2)"
   ]
  },
  {
   "cell_type": "code",
   "execution_count": 154,
   "metadata": {},
   "outputs": [
    {
     "data": {
      "text/plain": [
       "((8294, 7), (2074, 7))"
      ]
     },
     "execution_count": 154,
     "metadata": {},
     "output_type": "execute_result"
    }
   ],
   "source": [
    "xtrain.shape, xtest.shape"
   ]
  },
  {
   "cell_type": "code",
   "execution_count": 155,
   "metadata": {},
   "outputs": [
    {
     "name": "stderr",
     "output_type": "stream",
     "text": [
      "Using TensorFlow backend.\n"
     ]
    }
   ],
   "source": [
    "from keras.models import Sequential\n",
    "from keras.layers import Dense"
   ]
  },
  {
   "cell_type": "code",
   "execution_count": 156,
   "metadata": {},
   "outputs": [],
   "source": [
    "model1 = Sequential()"
   ]
  },
  {
   "cell_type": "code",
   "execution_count": 157,
   "metadata": {},
   "outputs": [],
   "source": [
    "input_shape = xtrain[0].shape"
   ]
  },
  {
   "cell_type": "code",
   "execution_count": 158,
   "metadata": {},
   "outputs": [],
   "source": [
    "model1.add(Dense(399,input_shape=input_shape))"
   ]
  },
  {
   "cell_type": "code",
   "execution_count": 159,
   "metadata": {},
   "outputs": [],
   "source": [
    "model1.add(Dense(499,activation='relu'))"
   ]
  },
  {
   "cell_type": "code",
   "execution_count": 160,
   "metadata": {},
   "outputs": [],
   "source": [
    "model1.add(Dense(599,activation='relu'))"
   ]
  },
  {
   "cell_type": "code",
   "execution_count": 161,
   "metadata": {},
   "outputs": [],
   "source": [
    "model1.add(Dense(1,activation='relu'))"
   ]
  },
  {
   "cell_type": "code",
   "execution_count": 162,
   "metadata": {},
   "outputs": [
    {
     "name": "stdout",
     "output_type": "stream",
     "text": [
      "Model: \"sequential_1\"\n",
      "_________________________________________________________________\n",
      "Layer (type)                 Output Shape              Param #   \n",
      "=================================================================\n",
      "dense_1 (Dense)              (None, 399)               3192      \n",
      "_________________________________________________________________\n",
      "dense_2 (Dense)              (None, 499)               199600    \n",
      "_________________________________________________________________\n",
      "dense_3 (Dense)              (None, 599)               299500    \n",
      "_________________________________________________________________\n",
      "dense_4 (Dense)              (None, 1)                 600       \n",
      "=================================================================\n",
      "Total params: 502,892\n",
      "Trainable params: 502,892\n",
      "Non-trainable params: 0\n",
      "_________________________________________________________________\n"
     ]
    }
   ],
   "source": [
    "model1.summary()"
   ]
  },
  {
   "cell_type": "code",
   "execution_count": 163,
   "metadata": {},
   "outputs": [],
   "source": [
    "model1.compile(optimizer='adam',loss='mean_squared_error')"
   ]
  },
  {
   "cell_type": "code",
   "execution_count": 164,
   "metadata": {},
   "outputs": [
    {
     "name": "stdout",
     "output_type": "stream",
     "text": [
      "Epoch 1/400\n",
      "8294/8294 [==============================] - 16s 2ms/step - loss: 30979568.5511\n",
      "Epoch 2/400\n",
      "8294/8294 [==============================] - 15s 2ms/step - loss: 9966001.9682\n",
      "Epoch 3/400\n",
      "8294/8294 [==============================] - 15s 2ms/step - loss: 9726993.1125\n",
      "Epoch 4/400\n",
      "8294/8294 [==============================] - 15s 2ms/step - loss: 9564208.2035\n",
      "Epoch 5/400\n",
      "8294/8294 [==============================] - 15s 2ms/step - loss: 9522622.8406\n",
      "Epoch 6/400\n",
      "8294/8294 [==============================] - 15s 2ms/step - loss: 9517459.3852\n",
      "Epoch 7/400\n",
      "8294/8294 [==============================] - 15s 2ms/step - loss: 9450205.2153\n",
      "Epoch 8/400\n",
      "8294/8294 [==============================] - 15s 2ms/step - loss: 9458663.9460\n",
      "Epoch 9/400\n",
      "8294/8294 [==============================] - 15s 2ms/step - loss: 9412503.4306\n",
      "Epoch 10/400\n",
      "8294/8294 [==============================] - 15s 2ms/step - loss: 9420766.7879\n",
      "Epoch 11/400\n",
      "8294/8294 [==============================] - 15s 2ms/step - loss: 9405189.1232\n",
      "Epoch 12/400\n",
      "8294/8294 [==============================] - 15s 2ms/step - loss: 9385623.8189\n",
      "Epoch 13/400\n",
      "8294/8294 [==============================] - 15s 2ms/step - loss: 9362490.1688\n",
      "Epoch 14/400\n",
      "8294/8294 [==============================] - 15s 2ms/step - loss: 9385199.3798\n",
      "Epoch 15/400\n",
      "8294/8294 [==============================] - 15s 2ms/step - loss: 9323527.2344\n",
      "Epoch 16/400\n",
      "8294/8294 [==============================] - 15s 2ms/step - loss: 9413788.0408\n",
      "Epoch 17/400\n",
      "8294/8294 [==============================] - 15s 2ms/step - loss: 9306910.3130\n",
      "Epoch 18/400\n",
      "8294/8294 [==============================] - 15s 2ms/step - loss: 9324577.7622\n",
      "Epoch 19/400\n",
      "8294/8294 [==============================] - 16s 2ms/step - loss: 9324815.2628\n",
      "Epoch 20/400\n",
      "8294/8294 [==============================] - 15s 2ms/step - loss: 9303939.8252\n",
      "Epoch 21/400\n",
      "8294/8294 [==============================] - 16s 2ms/step - loss: 9226822.5965\n",
      "Epoch 22/400\n",
      "8294/8294 [==============================] - 15s 2ms/step - loss: 9173430.0537\n",
      "Epoch 23/400\n",
      "8294/8294 [==============================] - 15s 2ms/step - loss: 9120551.9730\n",
      "Epoch 24/400\n",
      "8294/8294 [==============================] - 15s 2ms/step - loss: 8975736.7897\n",
      "Epoch 25/400\n",
      "8294/8294 [==============================] - 15s 2ms/step - loss: 8841609.0684\n",
      "Epoch 26/400\n",
      "8294/8294 [==============================] - 15s 2ms/step - loss: 8521284.9337\n",
      "Epoch 27/400\n",
      "8294/8294 [==============================] - 15s 2ms/step - loss: 8247077.2643\n",
      "Epoch 28/400\n",
      "8294/8294 [==============================] - 15s 2ms/step - loss: 7891221.2827\n",
      "Epoch 29/400\n",
      "8294/8294 [==============================] - 15s 2ms/step - loss: 7524321.9056\n",
      "Epoch 30/400\n",
      "8294/8294 [==============================] - 15s 2ms/step - loss: 7267261.7132\n",
      "Epoch 31/400\n",
      "8294/8294 [==============================] - 15s 2ms/step - loss: 7069422.4501\n",
      "Epoch 32/400\n",
      "8294/8294 [==============================] - 15s 2ms/step - loss: 6977599.7395\n",
      "Epoch 33/400\n",
      "8294/8294 [==============================] - 16s 2ms/step - loss: 6891629.3128\n",
      "Epoch 34/400\n",
      "8294/8294 [==============================] - 15s 2ms/step - loss: 6792471.6365\n",
      "Epoch 35/400\n",
      "8294/8294 [==============================] - 16s 2ms/step - loss: 6678760.9597\n",
      "Epoch 36/400\n",
      "8294/8294 [==============================] - 16s 2ms/step - loss: 6580646.2292\n",
      "Epoch 37/400\n",
      "8294/8294 [==============================] - 16s 2ms/step - loss: 6577942.5244\n",
      "Epoch 38/400\n",
      "8294/8294 [==============================] - 16s 2ms/step - loss: 6445760.7509\n",
      "Epoch 39/400\n",
      "8294/8294 [==============================] - 16s 2ms/step - loss: 6359479.5005\n",
      "Epoch 40/400\n",
      "8294/8294 [==============================] - 16s 2ms/step - loss: 6221761.1112\n",
      "Epoch 41/400\n",
      "8294/8294 [==============================] - 16s 2ms/step - loss: 6096687.5918\n",
      "Epoch 42/400\n",
      "8294/8294 [==============================] - 16s 2ms/step - loss: 5986169.0682\n",
      "Epoch 43/400\n",
      "8294/8294 [==============================] - 16s 2ms/step - loss: 5831670.5782\n",
      "Epoch 44/400\n",
      "8294/8294 [==============================] - 16s 2ms/step - loss: 5688676.6560\n",
      "Epoch 45/400\n",
      "8294/8294 [==============================] - 16s 2ms/step - loss: 5539028.6319\n",
      "Epoch 46/400\n",
      "8294/8294 [==============================] - 16s 2ms/step - loss: 5376918.6059\n",
      "Epoch 47/400\n",
      "8294/8294 [==============================] - 16s 2ms/step - loss: 5218141.0827\n",
      "Epoch 48/400\n",
      "8294/8294 [==============================] - 16s 2ms/step - loss: 5172268.1870\n",
      "Epoch 49/400\n",
      "8294/8294 [==============================] - 16s 2ms/step - loss: 5044257.2137\n",
      "Epoch 50/400\n",
      "8294/8294 [==============================] - 16s 2ms/step - loss: 4985411.1741\n",
      "Epoch 51/400\n",
      "8294/8294 [==============================] - 16s 2ms/step - loss: 4899278.0912\n",
      "Epoch 52/400\n",
      "8294/8294 [==============================] - 16s 2ms/step - loss: 4828749.3238\n",
      "Epoch 53/400\n",
      "8294/8294 [==============================] - 16s 2ms/step - loss: 4771896.2854\n",
      "Epoch 54/400\n",
      "8294/8294 [==============================] - 16s 2ms/step - loss: 4661145.9209\n",
      "Epoch 55/400\n",
      "8294/8294 [==============================] - 16s 2ms/step - loss: 4559807.3745\n",
      "Epoch 56/400\n",
      "8294/8294 [==============================] - 16s 2ms/step - loss: 4556739.6717\n",
      "Epoch 57/400\n",
      "8294/8294 [==============================] - 16s 2ms/step - loss: 4483522.6670\n",
      "Epoch 58/400\n",
      "8294/8294 [==============================] - 16s 2ms/step - loss: 4419361.7082\n",
      "Epoch 59/400\n",
      "8294/8294 [==============================] - 16s 2ms/step - loss: 4398058.9032\n",
      "Epoch 60/400\n",
      "8294/8294 [==============================] - 16s 2ms/step - loss: 4386395.3372\n",
      "Epoch 61/400\n",
      "8294/8294 [==============================] - 16s 2ms/step - loss: 4352249.7697\n",
      "Epoch 62/400\n",
      "8294/8294 [==============================] - 16s 2ms/step - loss: 4348631.5194\n",
      "Epoch 63/400\n",
      "8294/8294 [==============================] - 16s 2ms/step - loss: 4274586.9393\n",
      "Epoch 64/400\n",
      "8294/8294 [==============================] - 16s 2ms/step - loss: 4263393.2773\n",
      "Epoch 65/400\n",
      "8294/8294 [==============================] - 16s 2ms/step - loss: 4231788.2021\n",
      "Epoch 66/400\n",
      "8294/8294 [==============================] - 16s 2ms/step - loss: 4308048.7668\n",
      "Epoch 67/400\n",
      "8294/8294 [==============================] - 16s 2ms/step - loss: 4227182.0106\n",
      "Epoch 68/400\n",
      "8294/8294 [==============================] - 16s 2ms/step - loss: 4226713.7804\n",
      "Epoch 69/400\n",
      "8294/8294 [==============================] - 16s 2ms/step - loss: 4157024.9018\n",
      "Epoch 70/400\n",
      "8294/8294 [==============================] - 16s 2ms/step - loss: 4215599.6133\n",
      "Epoch 71/400\n",
      "8294/8294 [==============================] - 16s 2ms/step - loss: 4211310.4964\n",
      "Epoch 72/400\n",
      "8294/8294 [==============================] - 16s 2ms/step - loss: 4162766.5682\n",
      "Epoch 73/400\n",
      "8294/8294 [==============================] - 16s 2ms/step - loss: 4162778.2175\n",
      "Epoch 74/400\n",
      "8294/8294 [==============================] - 16s 2ms/step - loss: 4172252.2001\n",
      "Epoch 75/400\n",
      "8294/8294 [==============================] - 16s 2ms/step - loss: 4195950.6803\n",
      "Epoch 76/400\n",
      "8294/8294 [==============================] - 16s 2ms/step - loss: 4152335.3706\n",
      "Epoch 77/400\n",
      "8294/8294 [==============================] - 16s 2ms/step - loss: 4100487.0734\n",
      "Epoch 78/400\n",
      "8294/8294 [==============================] - 16s 2ms/step - loss: 4139713.6470\n",
      "Epoch 79/400\n",
      "8294/8294 [==============================] - 16s 2ms/step - loss: 4153136.3147\n",
      "Epoch 80/400\n",
      "8294/8294 [==============================] - 16s 2ms/step - loss: 4082642.3014\n",
      "Epoch 81/400\n",
      "8294/8294 [==============================] - 16s 2ms/step - loss: 4081558.0491\n",
      "Epoch 82/400\n",
      "8294/8294 [==============================] - 16s 2ms/step - loss: 4203224.4234\n",
      "Epoch 83/400\n",
      "8294/8294 [==============================] - 16s 2ms/step - loss: 4127948.3668\n",
      "Epoch 84/400\n",
      "8294/8294 [==============================] - 16s 2ms/step - loss: 4102653.1420\n",
      "Epoch 85/400\n",
      "8294/8294 [==============================] - 16s 2ms/step - loss: 4094858.6593\n",
      "Epoch 86/400\n",
      "8294/8294 [==============================] - 16s 2ms/step - loss: 4059754.0817\n",
      "Epoch 87/400\n",
      "8294/8294 [==============================] - 16s 2ms/step - loss: 4068131.2616\n",
      "Epoch 88/400\n",
      "8294/8294 [==============================] - 16s 2ms/step - loss: 4033690.8853\n",
      "Epoch 89/400\n",
      "8294/8294 [==============================] - 16s 2ms/step - loss: 4020228.8996\n",
      "Epoch 90/400\n"
     ]
    },
    {
     "name": "stdout",
     "output_type": "stream",
     "text": [
      "8294/8294 [==============================] - 16s 2ms/step - loss: 4047033.9474\n",
      "Epoch 91/400\n",
      "8294/8294 [==============================] - 16s 2ms/step - loss: 4020096.1565\n",
      "Epoch 92/400\n",
      "8294/8294 [==============================] - 16s 2ms/step - loss: 4068164.5875\n",
      "Epoch 93/400\n",
      "8294/8294 [==============================] - 16s 2ms/step - loss: 4000222.5494\n",
      "Epoch 94/400\n",
      "8294/8294 [==============================] - 16s 2ms/step - loss: 4032533.0621\n",
      "Epoch 95/400\n",
      "8294/8294 [==============================] - 16s 2ms/step - loss: 4038400.8926\n",
      "Epoch 96/400\n",
      "8294/8294 [==============================] - 16s 2ms/step - loss: 4038661.1459\n",
      "Epoch 97/400\n",
      "8294/8294 [==============================] - 16s 2ms/step - loss: 4020186.5453\n",
      "Epoch 98/400\n",
      "8294/8294 [==============================] - 16s 2ms/step - loss: 3954757.1463\n",
      "Epoch 99/400\n",
      "8294/8294 [==============================] - 16s 2ms/step - loss: 3963608.4748\n",
      "Epoch 100/400\n",
      "8294/8294 [==============================] - 16s 2ms/step - loss: 3964196.4594\n",
      "Epoch 101/400\n",
      "8294/8294 [==============================] - 16s 2ms/step - loss: 3981499.8501: 0s - loss:\n",
      "Epoch 102/400\n",
      "8294/8294 [==============================] - 16s 2ms/step - loss: 3966619.2168\n",
      "Epoch 103/400\n",
      "8294/8294 [==============================] - 16s 2ms/step - loss: 3940742.3696\n",
      "Epoch 104/400\n",
      "8294/8294 [==============================] - 16s 2ms/step - loss: 3927319.8293\n",
      "Epoch 105/400\n",
      "8294/8294 [==============================] - 16s 2ms/step - loss: 3891532.7188\n",
      "Epoch 106/400\n",
      "8294/8294 [==============================] - 16s 2ms/step - loss: 3922726.6381\n",
      "Epoch 107/400\n",
      "8294/8294 [==============================] - 16s 2ms/step - loss: 3926824.8092\n",
      "Epoch 108/400\n",
      "8294/8294 [==============================] - 17s 2ms/step - loss: 3946821.6422\n",
      "Epoch 109/400\n",
      "8294/8294 [==============================] - 17s 2ms/step - loss: 3974724.0408\n",
      "Epoch 110/400\n",
      "8294/8294 [==============================] - 17s 2ms/step - loss: 3939290.8863\n",
      "Epoch 111/400\n",
      "8294/8294 [==============================] - 17s 2ms/step - loss: 3914246.5048\n",
      "Epoch 112/400\n",
      "8294/8294 [==============================] - 17s 2ms/step - loss: 3838416.4946\n",
      "Epoch 113/400\n",
      "8294/8294 [==============================] - 16s 2ms/step - loss: 3853178.9219\n",
      "Epoch 114/400\n",
      "8294/8294 [==============================] - 16s 2ms/step - loss: 3840274.8550\n",
      "Epoch 115/400\n",
      "8294/8294 [==============================] - 16s 2ms/step - loss: 3845035.6258\n",
      "Epoch 116/400\n",
      "8294/8294 [==============================] - 16s 2ms/step - loss: 3858923.9444\n",
      "Epoch 117/400\n",
      "8294/8294 [==============================] - 17s 2ms/step - loss: 3800843.5103\n",
      "Epoch 118/400\n",
      "8294/8294 [==============================] - 16s 2ms/step - loss: 3866520.7520\n",
      "Epoch 119/400\n",
      "8294/8294 [==============================] - 16s 2ms/step - loss: 3804436.5246\n",
      "Epoch 120/400\n",
      "8294/8294 [==============================] - 16s 2ms/step - loss: 3822641.9169\n",
      "Epoch 121/400\n",
      "8294/8294 [==============================] - 17s 2ms/step - loss: 3816104.6329\n",
      "Epoch 122/400\n",
      "8294/8294 [==============================] - 16s 2ms/step - loss: 3764686.6983\n",
      "Epoch 123/400\n",
      "8294/8294 [==============================] - 16s 2ms/step - loss: 3835031.2953\n",
      "Epoch 124/400\n",
      "8294/8294 [==============================] - 17s 2ms/step - loss: 3793783.1351\n",
      "Epoch 125/400\n",
      "8294/8294 [==============================] - 17s 2ms/step - loss: 3781769.9009\n",
      "Epoch 126/400\n",
      "8294/8294 [==============================] - 17s 2ms/step - loss: 3779334.7147: 1s - loss: 37968 - ETA: 1\n",
      "Epoch 127/400\n",
      "8294/8294 [==============================] - 17s 2ms/step - loss: 3730612.6904\n",
      "Epoch 128/400\n",
      "8294/8294 [==============================] - 17s 2ms/step - loss: 3763241.7819\n",
      "Epoch 129/400\n",
      "8294/8294 [==============================] - 17s 2ms/step - loss: 3727073.7813\n",
      "Epoch 130/400\n",
      "8294/8294 [==============================] - 17s 2ms/step - loss: 3764605.2349\n",
      "Epoch 131/400\n",
      "8294/8294 [==============================] - 17s 2ms/step - loss: 3739560.7347\n",
      "Epoch 132/400\n",
      "8294/8294 [==============================] - 17s 2ms/step - loss: 3707011.3990\n",
      "Epoch 133/400\n",
      "8294/8294 [==============================] - 17s 2ms/step - loss: 3744170.1657\n",
      "Epoch 134/400\n",
      "8294/8294 [==============================] - 17s 2ms/step - loss: 3670582.9197\n",
      "Epoch 135/400\n",
      "8294/8294 [==============================] - 17s 2ms/step - loss: 3684371.3991\n",
      "Epoch 136/400\n",
      "8294/8294 [==============================] - 17s 2ms/step - loss: 3740109.1548\n",
      "Epoch 137/400\n",
      "8294/8294 [==============================] - 17s 2ms/step - loss: 3728034.2194\n",
      "Epoch 138/400\n",
      "8294/8294 [==============================] - 18s 2ms/step - loss: 3707953.3631\n",
      "Epoch 139/400\n",
      "8294/8294 [==============================] - 17s 2ms/step - loss: 3690352.0256\n",
      "Epoch 140/400\n",
      "8294/8294 [==============================] - 17s 2ms/step - loss: 3723925.3535\n",
      "Epoch 141/400\n",
      "8294/8294 [==============================] - 18s 2ms/step - loss: 3660968.4035\n",
      "Epoch 142/400\n",
      "8294/8294 [==============================] - 17s 2ms/step - loss: 3640499.5380\n",
      "Epoch 143/400\n",
      "8294/8294 [==============================] - 17s 2ms/step - loss: 3644145.4826\n",
      "Epoch 144/400\n",
      "8294/8294 [==============================] - 17s 2ms/step - loss: 3691114.2078\n",
      "Epoch 145/400\n",
      "8294/8294 [==============================] - 18s 2ms/step - loss: 3747704.4305\n",
      "Epoch 146/400\n",
      "8294/8294 [==============================] - 18s 2ms/step - loss: 3653756.5627\n",
      "Epoch 147/400\n",
      "8294/8294 [==============================] - 17s 2ms/step - loss: 3624798.2772\n",
      "Epoch 148/400\n",
      "8294/8294 [==============================] - 17s 2ms/step - loss: 3622557.4989\n",
      "Epoch 149/400\n",
      "8294/8294 [==============================] - 17s 2ms/step - loss: 3624884.4271\n",
      "Epoch 150/400\n",
      "8294/8294 [==============================] - 17s 2ms/step - loss: 3608434.5167\n",
      "Epoch 151/400\n",
      "8294/8294 [==============================] - 17s 2ms/step - loss: 3583876.5359\n",
      "Epoch 152/400\n",
      "8294/8294 [==============================] - 18s 2ms/step - loss: 3631875.0866\n",
      "Epoch 153/400\n",
      "8294/8294 [==============================] - 17s 2ms/step - loss: 3633860.8800\n",
      "Epoch 154/400\n",
      "8294/8294 [==============================] - 18s 2ms/step - loss: 3609775.5854: 1s - lo\n",
      "Epoch 155/400\n",
      "8294/8294 [==============================] - 17s 2ms/step - loss: 3570382.5773\n",
      "Epoch 156/400\n",
      "8294/8294 [==============================] - 17s 2ms/step - loss: 3636920.2691\n",
      "Epoch 157/400\n",
      "8294/8294 [==============================] - 18s 2ms/step - loss: 3601885.5859\n",
      "Epoch 158/400\n",
      "8294/8294 [==============================] - 17s 2ms/step - loss: 3597260.5674\n",
      "Epoch 159/400\n",
      "8294/8294 [==============================] - 18s 2ms/step - loss: 3537783.4616\n",
      "Epoch 160/400\n",
      "8294/8294 [==============================] - 17s 2ms/step - loss: 3604496.3212\n",
      "Epoch 161/400\n",
      "8294/8294 [==============================] - 18s 2ms/step - loss: 3595626.8832\n",
      "Epoch 162/400\n",
      "8294/8294 [==============================] - 17s 2ms/step - loss: 3557341.9607: 0s - loss: 35\n",
      "Epoch 163/400\n",
      "8294/8294 [==============================] - 17s 2ms/step - loss: 3605520.9392\n",
      "Epoch 164/400\n",
      "8294/8294 [==============================] - 18s 2ms/step - loss: 3539594.7143\n",
      "Epoch 165/400\n",
      "8294/8294 [==============================] - 18s 2ms/step - loss: 3532361.6110\n",
      "Epoch 166/400\n",
      "8294/8294 [==============================] - 18s 2ms/step - loss: 3584819.8242\n",
      "Epoch 167/400\n",
      "8294/8294 [==============================] - 18s 2ms/step - loss: 3552921.3530\n",
      "Epoch 168/400\n",
      "8294/8294 [==============================] - 18s 2ms/step - loss: 3598478.6458\n",
      "Epoch 169/400\n",
      "8294/8294 [==============================] - 19s 2ms/step - loss: 3579587.6126\n",
      "Epoch 170/400\n",
      "8294/8294 [==============================] - 19s 2ms/step - loss: 3482995.6257\n",
      "Epoch 171/400\n",
      "8294/8294 [==============================] - 19s 2ms/step - loss: 3487484.4400\n",
      "Epoch 172/400\n",
      "8294/8294 [==============================] - 19s 2ms/step - loss: 3557750.4009\n",
      "Epoch 173/400\n",
      "8294/8294 [==============================] - 18s 2ms/step - loss: 3513405.1536\n",
      "Epoch 174/400\n",
      "8294/8294 [==============================] - 19s 2ms/step - loss: 3515300.6654\n",
      "Epoch 175/400\n",
      "8294/8294 [==============================] - 19s 2ms/step - loss: 3530938.0157\n",
      "Epoch 176/400\n",
      "8294/8294 [==============================] - 19s 2ms/step - loss: 3586305.8560\n",
      "Epoch 177/400\n",
      "8294/8294 [==============================] - 18s 2ms/step - loss: 3436987.7792\n",
      "Epoch 178/400\n",
      "8294/8294 [==============================] - 18s 2ms/step - loss: 3522012.6864\n",
      "Epoch 179/400\n",
      "8294/8294 [==============================] - 18s 2ms/step - loss: 3496720.7514\n",
      "Epoch 180/400\n",
      "8294/8294 [==============================] - 18s 2ms/step - loss: 3441743.5343\n",
      "Epoch 181/400\n",
      "8294/8294 [==============================] - 18s 2ms/step - loss: 3497990.3892\n",
      "Epoch 182/400\n",
      "8294/8294 [==============================] - 18s 2ms/step - loss: 3490539.1518\n",
      "Epoch 183/400\n",
      "8294/8294 [==============================] - 18s 2ms/step - loss: 3493691.2303\n",
      "Epoch 184/400\n",
      "8294/8294 [==============================] - 18s 2ms/step - loss: 3508229.2859\n",
      "Epoch 185/400\n",
      "8294/8294 [==============================] - 19s 2ms/step - loss: 3587147.6287\n",
      "Epoch 186/400\n",
      "8294/8294 [==============================] - 18s 2ms/step - loss: 3429430.0931\n",
      "Epoch 187/400\n",
      "8294/8294 [==============================] - 19s 2ms/step - loss: 3447029.7983\n",
      "Epoch 188/400\n",
      "8294/8294 [==============================] - 19s 2ms/step - loss: 3449777.6156\n",
      "Epoch 189/400\n",
      "8294/8294 [==============================] - 18s 2ms/step - loss: 3474393.9776\n",
      "Epoch 190/400\n",
      "8294/8294 [==============================] - 19s 2ms/step - loss: 3491224.2419\n",
      "Epoch 191/400\n",
      "8294/8294 [==============================] - 19s 2ms/step - loss: 3470953.7789\n",
      "Epoch 192/400\n",
      "8294/8294 [==============================] - 19s 2ms/step - loss: 3462767.4670\n",
      "Epoch 193/400\n",
      "8294/8294 [==============================] - 19s 2ms/step - loss: 3441160.3196\n",
      "Epoch 194/400\n",
      "8294/8294 [==============================] - 19s 2ms/step - loss: 3434471.2064\n",
      "Epoch 195/400\n",
      "8294/8294 [==============================] - 19s 2ms/step - loss: 3481544.5971\n",
      "Epoch 196/400\n",
      "8294/8294 [==============================] - 19s 2ms/step - loss: 3481638.4403\n",
      "Epoch 197/400\n",
      "8294/8294 [==============================] - 19s 2ms/step - loss: 3428409.5574\n",
      "Epoch 198/400\n",
      "8294/8294 [==============================] - 19s 2ms/step - loss: 3465096.1660\n",
      "Epoch 199/400\n",
      "8294/8294 [==============================] - 20s 2ms/step - loss: 3442851.9239\n",
      "Epoch 200/400\n",
      "8294/8294 [==============================] - 19s 2ms/step - loss: 3453785.8621\n",
      "Epoch 201/400\n",
      "8294/8294 [==============================] - 19s 2ms/step - loss: 3415622.4719\n",
      "Epoch 202/400\n",
      "8294/8294 [==============================] - 19s 2ms/step - loss: 3419976.9518\n",
      "Epoch 203/400\n",
      "8294/8294 [==============================] - 19s 2ms/step - loss: 3389057.2428\n",
      "Epoch 204/400\n",
      "8294/8294 [==============================] - 19s 2ms/step - loss: 3430214.2501\n",
      "Epoch 205/400\n",
      "8294/8294 [==============================] - 19s 2ms/step - loss: 3419576.8883\n",
      "Epoch 206/400\n",
      "8294/8294 [==============================] - 20s 2ms/step - loss: 3459225.5278\n",
      "Epoch 207/400\n",
      "8294/8294 [==============================] - 19s 2ms/step - loss: 3473331.5412\n",
      "Epoch 208/400\n",
      "8294/8294 [==============================] - 19s 2ms/step - loss: 3449534.1860\n",
      "Epoch 209/400\n",
      "8294/8294 [==============================] - 19s 2ms/step - loss: 3387869.9791\n",
      "Epoch 210/400\n",
      "8294/8294 [==============================] - 21s 2ms/step - loss: 3385801.2719\n",
      "Epoch 211/400\n",
      "8294/8294 [==============================] - 20s 2ms/step - loss: 3395172.6800\n",
      "Epoch 212/400\n",
      "8294/8294 [==============================] - 21s 3ms/step - loss: 3377958.5305\n",
      "Epoch 213/400\n",
      "8294/8294 [==============================] - 20s 2ms/step - loss: 3382756.7500\n",
      "Epoch 214/400\n",
      "8294/8294 [==============================] - 20s 2ms/step - loss: 3408577.5685\n",
      "Epoch 215/400\n",
      "8294/8294 [==============================] - 21s 2ms/step - loss: 3405934.3035\n",
      "Epoch 216/400\n",
      "8294/8294 [==============================] - 21s 2ms/step - loss: 3364623.7439\n",
      "Epoch 217/400\n",
      "8294/8294 [==============================] - 20s 2ms/step - loss: 3388918.8628\n",
      "Epoch 218/400\n",
      "8294/8294 [==============================] - 21s 2ms/step - loss: 3383635.0433\n",
      "Epoch 219/400\n",
      "8294/8294 [==============================] - 20s 2ms/step - loss: 3365336.6042\n",
      "Epoch 220/400\n",
      "8294/8294 [==============================] - 20s 2ms/step - loss: 3433826.0365\n",
      "Epoch 221/400\n",
      "8294/8294 [==============================] - 20s 2ms/step - loss: 3375674.3237\n",
      "Epoch 222/400\n",
      "8294/8294 [==============================] - 20s 2ms/step - loss: 3406038.2434\n",
      "Epoch 223/400\n",
      "8294/8294 [==============================] - 15s 2ms/step - loss: 3411505.5008\n",
      "Epoch 224/400\n",
      "8294/8294 [==============================] - 2269s 274ms/step - loss: 3504654.7501\n",
      "Epoch 225/400\n",
      "8294/8294 [==============================] - 14s 2ms/step - loss: 3338484.2050\n",
      "Epoch 226/400\n",
      "8294/8294 [==============================] - 11s 1ms/step - loss: 3349521.1500\n",
      "Epoch 227/400\n",
      "8294/8294 [==============================] - 11s 1ms/step - loss: 3351226.7627\n",
      "Epoch 228/400\n",
      "8294/8294 [==============================] - 11s 1ms/step - loss: 3351091.1216\n",
      "Epoch 229/400\n",
      "8294/8294 [==============================] - 11s 1ms/step - loss: 3326472.6714\n",
      "Epoch 230/400\n",
      "8294/8294 [==============================] - 11s 1ms/step - loss: 3367422.7285\n",
      "Epoch 231/400\n",
      "8294/8294 [==============================] - 11s 1ms/step - loss: 3380404.6197\n",
      "Epoch 232/400\n",
      "8294/8294 [==============================] - 11s 1ms/step - loss: 3357033.8664\n",
      "Epoch 233/400\n",
      "8294/8294 [==============================] - 11s 1ms/step - loss: 3333781.3934\n",
      "Epoch 234/400\n",
      "8294/8294 [==============================] - 11s 1ms/step - loss: 3289769.8311\n",
      "Epoch 235/400\n",
      "8294/8294 [==============================] - 11s 1ms/step - loss: 3325407.3249\n",
      "Epoch 236/400\n",
      "8294/8294 [==============================] - 11s 1ms/step - loss: 3325076.5017\n",
      "Epoch 237/400\n",
      "8294/8294 [==============================] - 11s 1ms/step - loss: 3296401.9265\n",
      "Epoch 238/400\n",
      "8294/8294 [==============================] - 11s 1ms/step - loss: 3332657.1699\n",
      "Epoch 239/400\n",
      "8294/8294 [==============================] - 11s 1ms/step - loss: 3351729.8338\n",
      "Epoch 240/400\n",
      "8294/8294 [==============================] - 11s 1ms/step - loss: 3297496.7286\n",
      "Epoch 241/400\n",
      "8294/8294 [==============================] - 11s 1ms/step - loss: 3337089.9354\n",
      "Epoch 242/400\n",
      "8294/8294 [==============================] - 11s 1ms/step - loss: 3318532.6284\n",
      "Epoch 243/400\n",
      "8294/8294 [==============================] - 11s 1ms/step - loss: 3319981.7347\n",
      "Epoch 244/400\n",
      "8294/8294 [==============================] - 11s 1ms/step - loss: 3324936.0217\n",
      "Epoch 245/400\n",
      "8294/8294 [==============================] - 11s 1ms/step - loss: 3291030.7224\n",
      "Epoch 246/400\n",
      "8294/8294 [==============================] - 11s 1ms/step - loss: 3315180.4133\n",
      "Epoch 247/400\n",
      "8294/8294 [==============================] - 11s 1ms/step - loss: 3299726.0418\n",
      "Epoch 248/400\n",
      "8294/8294 [==============================] - 11s 1ms/step - loss: 3295900.4936\n",
      "Epoch 249/400\n",
      "8294/8294 [==============================] - 11s 1ms/step - loss: 3287274.3488\n",
      "Epoch 250/400\n",
      "8294/8294 [==============================] - 12s 1ms/step - loss: 3291423.5821\n",
      "Epoch 251/400\n",
      "8294/8294 [==============================] - 13s 2ms/step - loss: 3266365.8879\n",
      "Epoch 252/400\n",
      "8294/8294 [==============================] - 13s 2ms/step - loss: 3304599.0483\n",
      "Epoch 253/400\n",
      "8294/8294 [==============================] - 13s 2ms/step - loss: 3259656.3262\n",
      "Epoch 254/400\n",
      "8294/8294 [==============================] - 13s 2ms/step - loss: 3258421.6353\n",
      "Epoch 255/400\n",
      "8294/8294 [==============================] - 13s 2ms/step - loss: 3277475.1490\n",
      "Epoch 256/400\n",
      "8294/8294 [==============================] - 14s 2ms/step - loss: 3267149.4156\n",
      "Epoch 257/400\n",
      "8294/8294 [==============================] - 14s 2ms/step - loss: 3248862.0867\n",
      "Epoch 258/400\n",
      "8294/8294 [==============================] - 14s 2ms/step - loss: 3297813.6622\n",
      "Epoch 259/400\n",
      "8294/8294 [==============================] - 14s 2ms/step - loss: 3252422.8764\n",
      "Epoch 260/400\n",
      "8294/8294 [==============================] - 14s 2ms/step - loss: 3312890.2317\n",
      "Epoch 261/400\n",
      "8294/8294 [==============================] - 13s 2ms/step - loss: 3277310.1597\n",
      "Epoch 262/400\n",
      "8294/8294 [==============================] - 13s 2ms/step - loss: 3237904.1014\n",
      "Epoch 263/400\n",
      "8294/8294 [==============================] - 14s 2ms/step - loss: 3268813.1977\n",
      "Epoch 264/400\n",
      "8294/8294 [==============================] - 13s 2ms/step - loss: 3236370.7826\n",
      "Epoch 265/400\n"
     ]
    },
    {
     "name": "stdout",
     "output_type": "stream",
     "text": [
      "8294/8294 [==============================] - 13s 2ms/step - loss: 3255760.5183\n",
      "Epoch 266/400\n",
      "8294/8294 [==============================] - 13s 2ms/step - loss: 3243223.2936\n",
      "Epoch 267/400\n",
      "8294/8294 [==============================] - 13s 2ms/step - loss: 3233631.5561\n",
      "Epoch 268/400\n",
      "8294/8294 [==============================] - 14s 2ms/step - loss: 3228539.5487\n",
      "Epoch 269/400\n",
      "8294/8294 [==============================] - 13s 2ms/step - loss: 3228578.0518\n",
      "Epoch 270/400\n",
      "8294/8294 [==============================] - 14s 2ms/step - loss: 3266024.9617\n",
      "Epoch 271/400\n",
      "8294/8294 [==============================] - 14s 2ms/step - loss: 3258900.1551\n",
      "Epoch 272/400\n",
      "8294/8294 [==============================] - 14s 2ms/step - loss: 3248522.4483\n",
      "Epoch 273/400\n",
      "8294/8294 [==============================] - 14s 2ms/step - loss: 3216765.0023\n",
      "Epoch 274/400\n",
      "8294/8294 [==============================] - 14s 2ms/step - loss: 3296220.8669\n",
      "Epoch 275/400\n",
      "8294/8294 [==============================] - 14s 2ms/step - loss: 3227177.1890\n",
      "Epoch 276/400\n",
      "8294/8294 [==============================] - 14s 2ms/step - loss: 3176879.0748\n",
      "Epoch 277/400\n",
      "8294/8294 [==============================] - 14s 2ms/step - loss: 3269703.0335\n",
      "Epoch 278/400\n",
      "8294/8294 [==============================] - 14s 2ms/step - loss: 3246306.8824\n",
      "Epoch 279/400\n",
      "8294/8294 [==============================] - 14s 2ms/step - loss: 3256686.5739\n",
      "Epoch 280/400\n",
      "8294/8294 [==============================] - 14s 2ms/step - loss: 3193688.9877\n",
      "Epoch 281/400\n",
      "8294/8294 [==============================] - 14s 2ms/step - loss: 3249264.5925\n",
      "Epoch 282/400\n",
      "8294/8294 [==============================] - 14s 2ms/step - loss: 3190977.6259\n",
      "Epoch 283/400\n",
      "8294/8294 [==============================] - 14s 2ms/step - loss: 3258155.7228\n",
      "Epoch 284/400\n",
      "8294/8294 [==============================] - 14s 2ms/step - loss: 3223190.7935\n",
      "Epoch 285/400\n",
      "8294/8294 [==============================] - 14s 2ms/step - loss: 3189836.2602\n",
      "Epoch 286/400\n",
      "8294/8294 [==============================] - 14s 2ms/step - loss: 3198765.4117\n",
      "Epoch 287/400\n",
      "8294/8294 [==============================] - 14s 2ms/step - loss: 3242712.2006\n",
      "Epoch 288/400\n",
      "8294/8294 [==============================] - 14s 2ms/step - loss: 3214455.6988\n",
      "Epoch 289/400\n",
      "8294/8294 [==============================] - 14s 2ms/step - loss: 3239213.8335\n",
      "Epoch 290/400\n",
      "8294/8294 [==============================] - 14s 2ms/step - loss: 3161296.6997\n",
      "Epoch 291/400\n",
      "8294/8294 [==============================] - 14s 2ms/step - loss: 3217793.7874\n",
      "Epoch 292/400\n",
      "8294/8294 [==============================] - 14s 2ms/step - loss: 3184097.9608\n",
      "Epoch 293/400\n",
      "8294/8294 [==============================] - 14s 2ms/step - loss: 3227608.4183\n",
      "Epoch 294/400\n",
      "8294/8294 [==============================] - 14s 2ms/step - loss: 3209445.4000\n",
      "Epoch 295/400\n",
      "8294/8294 [==============================] - 14s 2ms/step - loss: 3197562.5816\n",
      "Epoch 296/400\n",
      "8294/8294 [==============================] - 14s 2ms/step - loss: 3166466.9169\n",
      "Epoch 297/400\n",
      "8294/8294 [==============================] - 14s 2ms/step - loss: 3165381.5148\n",
      "Epoch 298/400\n",
      "8294/8294 [==============================] - 14s 2ms/step - loss: 3176376.5852\n",
      "Epoch 299/400\n",
      "8294/8294 [==============================] - 14s 2ms/step - loss: 3188819.0685\n",
      "Epoch 300/400\n",
      "8294/8294 [==============================] - 14s 2ms/step - loss: 3148060.4895\n",
      "Epoch 301/400\n",
      "8294/8294 [==============================] - 14s 2ms/step - loss: 3146840.6589\n",
      "Epoch 302/400\n",
      "8294/8294 [==============================] - 14s 2ms/step - loss: 3169867.8157\n",
      "Epoch 303/400\n",
      "8294/8294 [==============================] - 14s 2ms/step - loss: 3158152.7111\n",
      "Epoch 304/400\n",
      "8294/8294 [==============================] - 14s 2ms/step - loss: 3198169.3985\n",
      "Epoch 305/400\n",
      "8294/8294 [==============================] - 14s 2ms/step - loss: 3171761.3446\n",
      "Epoch 306/400\n",
      "8294/8294 [==============================] - 14s 2ms/step - loss: 3160110.3193\n",
      "Epoch 307/400\n",
      "8294/8294 [==============================] - 14s 2ms/step - loss: 3193118.5792\n",
      "Epoch 308/400\n",
      "8294/8294 [==============================] - 14s 2ms/step - loss: 3172111.7395\n",
      "Epoch 309/400\n",
      "8294/8294 [==============================] - 14s 2ms/step - loss: 3148357.5766\n",
      "Epoch 310/400\n",
      "8294/8294 [==============================] - 14s 2ms/step - loss: 3169094.9714\n",
      "Epoch 311/400\n",
      "8294/8294 [==============================] - 15s 2ms/step - loss: 3122178.5398\n",
      "Epoch 312/400\n",
      "8294/8294 [==============================] - 14s 2ms/step - loss: 3191443.0017\n",
      "Epoch 313/400\n",
      "8294/8294 [==============================] - 14s 2ms/step - loss: 3135427.4948\n",
      "Epoch 314/400\n",
      "8294/8294 [==============================] - 14s 2ms/step - loss: 3154001.2731\n",
      "Epoch 315/400\n",
      "8294/8294 [==============================] - 14s 2ms/step - loss: 3195570.6219\n",
      "Epoch 316/400\n",
      "8294/8294 [==============================] - 14s 2ms/step - loss: 3335020.0368\n",
      "Epoch 317/400\n",
      "8294/8294 [==============================] - 14s 2ms/step - loss: 3138749.5802\n",
      "Epoch 318/400\n",
      "8294/8294 [==============================] - 14s 2ms/step - loss: 3122202.5841\n",
      "Epoch 319/400\n",
      "8294/8294 [==============================] - 14s 2ms/step - loss: 3147705.7533\n",
      "Epoch 320/400\n",
      "8294/8294 [==============================] - 14s 2ms/step - loss: 3177552.7404\n",
      "Epoch 321/400\n",
      "8294/8294 [==============================] - 14s 2ms/step - loss: 3154711.3451\n",
      "Epoch 322/400\n",
      "8294/8294 [==============================] - 14s 2ms/step - loss: 3121367.0043\n",
      "Epoch 323/400\n",
      "8294/8294 [==============================] - 14s 2ms/step - loss: 3135943.1875\n",
      "Epoch 324/400\n",
      "8294/8294 [==============================] - 14s 2ms/step - loss: 3105624.9069\n",
      "Epoch 325/400\n",
      "8294/8294 [==============================] - 14s 2ms/step - loss: 3090720.6323\n",
      "Epoch 326/400\n",
      "8294/8294 [==============================] - 14s 2ms/step - loss: 3096894.4156\n",
      "Epoch 327/400\n",
      "8294/8294 [==============================] - 14s 2ms/step - loss: 3109853.9233\n",
      "Epoch 328/400\n",
      "8294/8294 [==============================] - 15s 2ms/step - loss: 3125406.7464\n",
      "Epoch 329/400\n",
      "8294/8294 [==============================] - 14s 2ms/step - loss: 3147875.2919\n",
      "Epoch 330/400\n",
      "8294/8294 [==============================] - 14s 2ms/step - loss: 3085150.3191\n",
      "Epoch 331/400\n",
      "8294/8294 [==============================] - 14s 2ms/step - loss: 3170377.2485\n",
      "Epoch 332/400\n",
      "8294/8294 [==============================] - 14s 2ms/step - loss: 3076387.5124\n",
      "Epoch 333/400\n",
      "8294/8294 [==============================] - 14s 2ms/step - loss: 3095767.8997\n",
      "Epoch 334/400\n",
      "8294/8294 [==============================] - 14s 2ms/step - loss: 3073737.6132\n",
      "Epoch 335/400\n",
      "8294/8294 [==============================] - 14s 2ms/step - loss: 3139159.3516\n",
      "Epoch 336/400\n",
      "8294/8294 [==============================] - 15s 2ms/step - loss: 3104686.1190\n",
      "Epoch 337/400\n",
      "8294/8294 [==============================] - 14s 2ms/step - loss: 3078564.1682\n",
      "Epoch 338/400\n",
      "8294/8294 [==============================] - 14s 2ms/step - loss: 3131291.9618\n",
      "Epoch 339/400\n",
      "8294/8294 [==============================] - 14s 2ms/step - loss: 3103131.5653\n",
      "Epoch 340/400\n",
      "8294/8294 [==============================] - 14s 2ms/step - loss: 3090819.8386\n",
      "Epoch 341/400\n",
      "8294/8294 [==============================] - 14s 2ms/step - loss: 3063292.7861\n",
      "Epoch 342/400\n",
      "8294/8294 [==============================] - 14s 2ms/step - loss: 3106226.4507\n",
      "Epoch 343/400\n",
      "8294/8294 [==============================] - 15s 2ms/step - loss: 3069595.2856\n",
      "Epoch 344/400\n",
      "8294/8294 [==============================] - 14s 2ms/step - loss: 3103390.7193\n",
      "Epoch 345/400\n",
      "8294/8294 [==============================] - 15s 2ms/step - loss: 3094051.2415\n",
      "Epoch 346/400\n",
      "8294/8294 [==============================] - 14s 2ms/step - loss: 3046944.7455\n",
      "Epoch 347/400\n",
      "8294/8294 [==============================] - 14s 2ms/step - loss: 3035980.1059\n",
      "Epoch 348/400\n",
      "8294/8294 [==============================] - 14s 2ms/step - loss: 3076887.3346\n",
      "Epoch 349/400\n",
      "8294/8294 [==============================] - 14s 2ms/step - loss: 3073656.9440\n",
      "Epoch 350/400\n",
      "8294/8294 [==============================] - 14s 2ms/step - loss: 3106871.2487\n",
      "Epoch 351/400\n",
      "8294/8294 [==============================] - 14s 2ms/step - loss: 3091758.6885\n",
      "Epoch 352/400\n",
      "8294/8294 [==============================] - 14s 2ms/step - loss: 3080783.2042\n",
      "Epoch 353/400\n",
      "8294/8294 [==============================] - 15s 2ms/step - loss: 3049945.2520\n",
      "Epoch 354/400\n",
      "8294/8294 [==============================] - 14s 2ms/step - loss: 3055528.2838\n",
      "Epoch 355/400\n",
      "8294/8294 [==============================] - 14s 2ms/step - loss: 3105933.1747\n",
      "Epoch 356/400\n",
      "8294/8294 [==============================] - 14s 2ms/step - loss: 3053313.4477\n",
      "Epoch 357/400\n",
      "8294/8294 [==============================] - 14s 2ms/step - loss: 3047430.5354\n",
      "Epoch 358/400\n",
      "8294/8294 [==============================] - 14s 2ms/step - loss: 3077898.6722\n",
      "Epoch 359/400\n",
      "8294/8294 [==============================] - 14s 2ms/step - loss: 3045302.3220\n",
      "Epoch 360/400\n",
      "8294/8294 [==============================] - 14s 2ms/step - loss: 3050670.4035\n",
      "Epoch 361/400\n",
      "8294/8294 [==============================] - 14s 2ms/step - loss: 3070458.6032\n",
      "Epoch 362/400\n",
      "8294/8294 [==============================] - 15s 2ms/step - loss: 3057395.8756\n",
      "Epoch 363/400\n",
      "8294/8294 [==============================] - 15s 2ms/step - loss: 3070125.2199\n",
      "Epoch 364/400\n",
      "8294/8294 [==============================] - 14s 2ms/step - loss: 3031515.6922\n",
      "Epoch 365/400\n",
      "8294/8294 [==============================] - 14s 2ms/step - loss: 3073944.6732\n",
      "Epoch 366/400\n",
      "8294/8294 [==============================] - 14s 2ms/step - loss: 3053322.9033\n",
      "Epoch 367/400\n",
      "8294/8294 [==============================] - 14s 2ms/step - loss: 3027467.3810\n",
      "Epoch 368/400\n",
      "8294/8294 [==============================] - 14s 2ms/step - loss: 3040013.5342\n",
      "Epoch 369/400\n",
      "8294/8294 [==============================] - 15s 2ms/step - loss: 3052594.8503\n",
      "Epoch 370/400\n",
      "8294/8294 [==============================] - 15s 2ms/step - loss: 3036730.3777\n",
      "Epoch 371/400\n",
      "8294/8294 [==============================] - 14s 2ms/step - loss: 3033728.4004\n",
      "Epoch 372/400\n",
      "8294/8294 [==============================] - 14s 2ms/step - loss: 3069191.0166\n",
      "Epoch 373/400\n",
      "8294/8294 [==============================] - 14s 2ms/step - loss: 3061308.0691\n",
      "Epoch 374/400\n",
      "8294/8294 [==============================] - 14s 2ms/step - loss: 3011021.1978\n",
      "Epoch 375/400\n",
      "8294/8294 [==============================] - 14s 2ms/step - loss: 3042575.0389\n",
      "Epoch 376/400\n",
      "8294/8294 [==============================] - 14s 2ms/step - loss: 3025294.6821\n",
      "Epoch 377/400\n",
      "8294/8294 [==============================] - 15s 2ms/step - loss: 3047896.7319\n",
      "Epoch 378/400\n",
      "8294/8294 [==============================] - 15s 2ms/step - loss: 3003170.9236\n",
      "Epoch 379/400\n",
      "8294/8294 [==============================] - 14s 2ms/step - loss: 3074296.2935\n",
      "Epoch 380/400\n",
      "8294/8294 [==============================] - 14s 2ms/step - loss: 3052573.8921\n",
      "Epoch 381/400\n",
      "8294/8294 [==============================] - 15s 2ms/step - loss: 3036234.2075\n",
      "Epoch 382/400\n",
      "8294/8294 [==============================] - 14s 2ms/step - loss: 3050529.3709\n",
      "Epoch 383/400\n",
      "8294/8294 [==============================] - 15s 2ms/step - loss: 3007778.6113\n",
      "Epoch 384/400\n",
      "8294/8294 [==============================] - 15s 2ms/step - loss: 2985814.2004\n",
      "Epoch 385/400\n",
      "8294/8294 [==============================] - 15s 2ms/step - loss: 3048500.9370\n",
      "Epoch 386/400\n",
      "8294/8294 [==============================] - 15s 2ms/step - loss: 3031343.8424\n",
      "Epoch 387/400\n",
      "8294/8294 [==============================] - 15s 2ms/step - loss: 3007399.2742\n",
      "Epoch 388/400\n",
      "8294/8294 [==============================] - 15s 2ms/step - loss: 3030974.1958\n",
      "Epoch 389/400\n",
      "8294/8294 [==============================] - 15s 2ms/step - loss: 2996693.6443\n",
      "Epoch 390/400\n",
      "8294/8294 [==============================] - 14s 2ms/step - loss: 3003814.4055\n",
      "Epoch 391/400\n",
      "8294/8294 [==============================] - 15s 2ms/step - loss: 3015366.5071\n",
      "Epoch 392/400\n",
      "8294/8294 [==============================] - 15s 2ms/step - loss: 3012562.1377\n",
      "Epoch 393/400\n",
      "8294/8294 [==============================] - 15s 2ms/step - loss: 2968329.2859\n",
      "Epoch 394/400\n",
      "8294/8294 [==============================] - 15s 2ms/step - loss: 3022957.9186\n",
      "Epoch 395/400\n",
      "8294/8294 [==============================] - 15s 2ms/step - loss: 3014965.2601\n",
      "Epoch 396/400\n",
      "8294/8294 [==============================] - 15s 2ms/step - loss: 3005255.0600\n",
      "Epoch 397/400\n",
      "8294/8294 [==============================] - 15s 2ms/step - loss: 3017063.9819\n",
      "Epoch 398/400\n",
      "8294/8294 [==============================] - 14s 2ms/step - loss: 2960069.6534\n",
      "Epoch 399/400\n",
      "8294/8294 [==============================] - 21s 3ms/step - loss: 3016812.0707\n",
      "Epoch 400/400\n",
      "8294/8294 [==============================] - 20s 2ms/step - loss: 3028384.1531\n"
     ]
    },
    {
     "data": {
      "text/plain": [
       "<keras.callbacks.callbacks.History at 0x141c70290>"
      ]
     },
     "execution_count": 164,
     "metadata": {},
     "output_type": "execute_result"
    }
   ],
   "source": [
    "model1.fit(xtrain,ytrain,epochs=400)"
   ]
  },
  {
   "cell_type": "code",
   "execution_count": 165,
   "metadata": {},
   "outputs": [],
   "source": [
    "from sklearn.metrics import mean_squared_error, mean_absolute_error, r2_score\n",
    "import math"
   ]
  },
  {
   "cell_type": "code",
   "execution_count": 166,
   "metadata": {},
   "outputs": [
    {
     "data": {
      "text/plain": [
       "array([[12983.311],\n",
       "       [11578.917],\n",
       "       [11183.816],\n",
       "       ...,\n",
       "       [14597.774],\n",
       "       [ 7736.518],\n",
       "       [ 4132.896]], dtype=float32)"
      ]
     },
     "execution_count": 166,
     "metadata": {},
     "output_type": "execute_result"
    }
   ],
   "source": [
    "model1.predict(xtest)"
   ]
  },
  {
   "cell_type": "code",
   "execution_count": 167,
   "metadata": {},
   "outputs": [
    {
     "data": {
      "text/plain": [
       "1305.957789333715"
      ]
     },
     "execution_count": 167,
     "metadata": {},
     "output_type": "execute_result"
    }
   ],
   "source": [
    "mean_absolute_error(ytest,model1.predict(xtest))"
   ]
  },
  {
   "cell_type": "code",
   "execution_count": 168,
   "metadata": {},
   "outputs": [
    {
     "data": {
      "text/plain": [
       "0.7963019338617898"
      ]
     },
     "execution_count": 168,
     "metadata": {},
     "output_type": "execute_result"
    }
   ],
   "source": [
    "ann_r2 = r2_score(ytest,model1.predict(xtest))\n",
    "ann_r2"
   ]
  },
  {
   "cell_type": "code",
   "execution_count": 169,
   "metadata": {},
   "outputs": [
    {
     "data": {
      "text/plain": [
       "1816.210054467495"
      ]
     },
     "execution_count": 169,
     "metadata": {},
     "output_type": "execute_result"
    }
   ],
   "source": [
    "ann_rmse = math.sqrt(mean_squared_error(ytest,model1.predict(xtest)))\n",
    "ann_rmse"
   ]
  },
  {
   "cell_type": "code",
   "execution_count": 170,
   "metadata": {},
   "outputs": [],
   "source": [
    "import gradio as gd"
   ]
  },
  {
   "cell_type": "code",
   "execution_count": 173,
   "metadata": {},
   "outputs": [],
   "source": [
    "test=pd.read_excel(\"Flight_Test.xlsx\")"
   ]
  },
  {
   "cell_type": "code",
   "execution_count": 175,
   "metadata": {},
   "outputs": [
    {
     "data": {
      "text/html": [
       "<div>\n",
       "<style scoped>\n",
       "    .dataframe tbody tr th:only-of-type {\n",
       "        vertical-align: middle;\n",
       "    }\n",
       "\n",
       "    .dataframe tbody tr th {\n",
       "        vertical-align: top;\n",
       "    }\n",
       "\n",
       "    .dataframe thead th {\n",
       "        text-align: right;\n",
       "    }\n",
       "</style>\n",
       "<table border=\"1\" class=\"dataframe\">\n",
       "  <thead>\n",
       "    <tr style=\"text-align: right;\">\n",
       "      <th></th>\n",
       "      <th>Airline</th>\n",
       "      <th>Date_of_Journey</th>\n",
       "      <th>Source</th>\n",
       "      <th>Destination</th>\n",
       "      <th>Dep_Time</th>\n",
       "      <th>Total_Stops</th>\n",
       "      <th>Additional_Info</th>\n",
       "    </tr>\n",
       "  </thead>\n",
       "  <tbody>\n",
       "    <tr>\n",
       "      <th>0</th>\n",
       "      <td>Jet Airways</td>\n",
       "      <td>6/06/2019</td>\n",
       "      <td>Delhi</td>\n",
       "      <td>Cochin</td>\n",
       "      <td>17:30</td>\n",
       "      <td>1 stop</td>\n",
       "      <td>No info</td>\n",
       "    </tr>\n",
       "    <tr>\n",
       "      <th>1</th>\n",
       "      <td>IndiGo</td>\n",
       "      <td>12/05/2019</td>\n",
       "      <td>Kolkata</td>\n",
       "      <td>Banglore</td>\n",
       "      <td>06:20</td>\n",
       "      <td>1 stop</td>\n",
       "      <td>No info</td>\n",
       "    </tr>\n",
       "    <tr>\n",
       "      <th>2</th>\n",
       "      <td>Jet Airways</td>\n",
       "      <td>21/05/2019</td>\n",
       "      <td>Delhi</td>\n",
       "      <td>Cochin</td>\n",
       "      <td>19:15</td>\n",
       "      <td>1 stop</td>\n",
       "      <td>In-flight meal not included</td>\n",
       "    </tr>\n",
       "    <tr>\n",
       "      <th>3</th>\n",
       "      <td>Multiple carriers</td>\n",
       "      <td>21/05/2019</td>\n",
       "      <td>Delhi</td>\n",
       "      <td>Cochin</td>\n",
       "      <td>08:00</td>\n",
       "      <td>1 stop</td>\n",
       "      <td>No info</td>\n",
       "    </tr>\n",
       "    <tr>\n",
       "      <th>4</th>\n",
       "      <td>Air Asia</td>\n",
       "      <td>24/06/2019</td>\n",
       "      <td>Banglore</td>\n",
       "      <td>Delhi</td>\n",
       "      <td>23:55</td>\n",
       "      <td>non-stop</td>\n",
       "      <td>No info</td>\n",
       "    </tr>\n",
       "    <tr>\n",
       "      <th>...</th>\n",
       "      <td>...</td>\n",
       "      <td>...</td>\n",
       "      <td>...</td>\n",
       "      <td>...</td>\n",
       "      <td>...</td>\n",
       "      <td>...</td>\n",
       "      <td>...</td>\n",
       "    </tr>\n",
       "    <tr>\n",
       "      <th>2666</th>\n",
       "      <td>Air India</td>\n",
       "      <td>6/06/2019</td>\n",
       "      <td>Kolkata</td>\n",
       "      <td>Banglore</td>\n",
       "      <td>20:30</td>\n",
       "      <td>1 stop</td>\n",
       "      <td>No info</td>\n",
       "    </tr>\n",
       "    <tr>\n",
       "      <th>2667</th>\n",
       "      <td>IndiGo</td>\n",
       "      <td>27/03/2019</td>\n",
       "      <td>Kolkata</td>\n",
       "      <td>Banglore</td>\n",
       "      <td>14:20</td>\n",
       "      <td>non-stop</td>\n",
       "      <td>No info</td>\n",
       "    </tr>\n",
       "    <tr>\n",
       "      <th>2668</th>\n",
       "      <td>Jet Airways</td>\n",
       "      <td>6/03/2019</td>\n",
       "      <td>Delhi</td>\n",
       "      <td>Cochin</td>\n",
       "      <td>21:50</td>\n",
       "      <td>1 stop</td>\n",
       "      <td>No info</td>\n",
       "    </tr>\n",
       "    <tr>\n",
       "      <th>2669</th>\n",
       "      <td>Air India</td>\n",
       "      <td>6/03/2019</td>\n",
       "      <td>Delhi</td>\n",
       "      <td>Cochin</td>\n",
       "      <td>04:00</td>\n",
       "      <td>1 stop</td>\n",
       "      <td>No info</td>\n",
       "    </tr>\n",
       "    <tr>\n",
       "      <th>2670</th>\n",
       "      <td>Multiple carriers</td>\n",
       "      <td>15/06/2019</td>\n",
       "      <td>Delhi</td>\n",
       "      <td>Cochin</td>\n",
       "      <td>04:55</td>\n",
       "      <td>1 stop</td>\n",
       "      <td>No info</td>\n",
       "    </tr>\n",
       "  </tbody>\n",
       "</table>\n",
       "<p>2671 rows × 7 columns</p>\n",
       "</div>"
      ],
      "text/plain": [
       "                Airline Date_of_Journey    Source Destination Dep_Time  \\\n",
       "0           Jet Airways       6/06/2019     Delhi      Cochin    17:30   \n",
       "1                IndiGo      12/05/2019   Kolkata    Banglore    06:20   \n",
       "2           Jet Airways      21/05/2019     Delhi      Cochin    19:15   \n",
       "3     Multiple carriers      21/05/2019     Delhi      Cochin    08:00   \n",
       "4              Air Asia      24/06/2019  Banglore       Delhi    23:55   \n",
       "...                 ...             ...       ...         ...      ...   \n",
       "2666          Air India       6/06/2019   Kolkata    Banglore    20:30   \n",
       "2667             IndiGo      27/03/2019   Kolkata    Banglore    14:20   \n",
       "2668        Jet Airways       6/03/2019     Delhi      Cochin    21:50   \n",
       "2669          Air India       6/03/2019     Delhi      Cochin    04:00   \n",
       "2670  Multiple carriers      15/06/2019     Delhi      Cochin    04:55   \n",
       "\n",
       "     Total_Stops              Additional_Info  \n",
       "0         1 stop                      No info  \n",
       "1         1 stop                      No info  \n",
       "2         1 stop  In-flight meal not included  \n",
       "3         1 stop                      No info  \n",
       "4       non-stop                      No info  \n",
       "...          ...                          ...  \n",
       "2666      1 stop                      No info  \n",
       "2667    non-stop                      No info  \n",
       "2668      1 stop                      No info  \n",
       "2669      1 stop                      No info  \n",
       "2670      1 stop                      No info  \n",
       "\n",
       "[2671 rows x 7 columns]"
      ]
     },
     "execution_count": 175,
     "metadata": {},
     "output_type": "execute_result"
    }
   ],
   "source": [
    "test"
   ]
  },
  {
   "cell_type": "code",
   "execution_count": 176,
   "metadata": {},
   "outputs": [],
   "source": [
    "Airline = gd.inputs.Dropdown(['Jet Airways', 'IndiGo', 'Multiple carriers', 'Air Asia',\n",
    "       'Air India', 'Vistara', 'SpiceJet', 'Vistara Premium economy',\n",
    "       'GoAir', 'Multiple carriers Premium economy',\n",
    "       'Jet Airways Business'],label='Airline')"
   ]
  },
  {
   "cell_type": "code",
   "execution_count": 177,
   "metadata": {},
   "outputs": [],
   "source": [
    "Source = gd.inputs.Dropdown(['Delhi', 'Kolkata', 'Banglore', 'Mumbai', 'Chennai']\n",
    "                            ,label='Source')"
   ]
  },
  {
   "cell_type": "code",
   "execution_count": 178,
   "metadata": {},
   "outputs": [],
   "source": [
    "Destination = gd.inputs.Dropdown(['Cochin', 'Banglore', 'Delhi', 'New Delhi', 'Hyderabad', 'Kolkata']\n",
    "                                 ,label='Destination')"
   ]
  },
  {
   "cell_type": "code",
   "execution_count": 179,
   "metadata": {},
   "outputs": [],
   "source": [
    "Dep_Time = gd.inputs.Dropdown(['17:30', '06:20', '19:15', '08:00', '23:55', '18:15', '07:30',\n",
    "       '15:15', '10:10', '16:30', '13:55', '06:50', '09:00', '05:45',\n",
    "       '21:25', '13:15', '09:55', '22:55', '10:45', '20:00', '05:30',\n",
    "       '21:05', '16:00', '14:00', '22:50', '19:50', '07:10', '05:55',\n",
    "       '16:55', '18:55', '10:20', '17:10', '13:00', '22:45', '21:00',\n",
    "       '17:45', '09:25', '14:05', '09:45', '02:00', '11:40', '17:00',\n",
    "       '06:00', '07:05', '16:45', '19:40', '03:50', '21:15', '11:30',\n",
    "       '12:00', '21:50', '05:50', '07:55', '09:10', '08:20', '09:30',\n",
    "       '10:00', '14:55', '22:10', '07:00', '19:55', '19:30', '15:00',\n",
    "       '05:35', '06:40', '17:15', '21:20', '07:35', '06:55', '17:35',\n",
    "       '11:15', '20:15', '20:25', '05:40', '15:05', '20:55', '14:25',\n",
    "       '19:45', '08:25', '22:00', '21:10', '02:15', '08:30', '20:40',\n",
    "       '14:15', '14:35', '11:10', '19:35', '15:20', '06:10', '22:20',\n",
    "       '08:35', '14:40', '09:40', '01:30', '08:50', '19:05', '08:55',\n",
    "       '11:35', '04:55', '14:10', '09:35', '17:50', '15:45', '02:55',\n",
    "       '00:30', '19:00', '23:05', '11:25', '05:25', '05:15', '12:50',\n",
    "       '06:45', '18:05', '13:25', '09:20', '02:30', '23:30', '07:45',\n",
    "       '11:55', '20:20', '08:15', '17:25', '09:50', '15:50', '10:35',\n",
    "       '14:30', '06:30', '11:50', '19:10', '20:45', '15:10', '16:50',\n",
    "       '16:35', '10:30', '04:45', '04:00', '04:40', '18:25', '15:35',\n",
    "       '19:20', '13:10', '13:05', '09:15', '20:30', '12:30', '11:00',\n",
    "       '08:45', '07:20', '14:45', '10:55', '05:00', '15:55', '15:30',\n",
    "       '20:05', '18:45', '16:10', '23:25', '16:40', '07:15', '13:20',\n",
    "       '06:05', '20:50', '11:20', '06:15', '18:00', '18:40', '12:55',\n",
    "       '05:10', '22:05', '07:25', '05:05', '22:30', '04:50', '18:20',\n",
    "       '17:40', '00:40', '11:45', '22:15', '15:40', '14:20', '20:35',\n",
    "       '13:30', '02:35', '17:05', '17:55', '21:30', '22:40', '08:10',\n",
    "       '06:25', '20:10', '18:35', '13:50', '00:25', '01:35', '16:15',\n",
    "       '10:25', '12:10', '23:00'],label='Additional Info')"
   ]
  },
  {
   "cell_type": "code",
   "execution_count": 180,
   "metadata": {},
   "outputs": [],
   "source": [
    "Additional_Info = gd.inputs.Dropdown(['No info', 'In-flight meal not included',\n",
    "       'No check-in baggage included', '1 Long layover', 'Business class',\n",
    "       'Change airports'],label='Departure Time')"
   ]
  },
  {
   "cell_type": "code",
   "execution_count": 181,
   "metadata": {},
   "outputs": [],
   "source": [
    "Total_Stops = gd.inputs.Dropdown(['1 stop', 'non-stop', '2 stops', '3 stops', '4 stops'],label='Stop')"
   ]
  },
  {
   "cell_type": "code",
   "execution_count": 182,
   "metadata": {},
   "outputs": [],
   "source": [
    "Date_of_Journey = gd.inputs.Dropdown(['6/06/2019', '12/05/2019', '21/05/2019', '24/06/2019',\n",
    "       '12/06/2019', '12/03/2019', '1/05/2019', '15/03/2019',\n",
    "       '18/05/2019', '21/03/2019', '15/06/2019', '15/05/2019',\n",
    "       '3/06/2019', '06/03/2019', '24/03/2019', '6/03/2019', '9/05/2019',\n",
    "       '18/03/2019', '6/04/2019', '1/06/2019', '3/03/2019', '27/03/2019',\n",
    "       '9/06/2019', '3/05/2019', '1/04/2019', '18/06/2019', '15/04/2019',\n",
    "       '6/05/2019', '9/03/2019', '3/04/2019', '27/06/2019', '21/06/2019',\n",
    "       '21/04/2019', '18/04/2019', '9/04/2019', '24/05/2019',\n",
    "       '01/03/2019', '09/03/2019', '27/05/2019', '03/03/2019',\n",
    "       '27/04/2019', '1/03/2019', '24/04/2019', '12/04/2019'],\n",
    "                                     label='Date of Journey')"
   ]
  },
  {
   "cell_type": "code",
   "execution_count": 183,
   "metadata": {},
   "outputs": [
    {
     "data": {
      "text/plain": [
       "Index(['Airline', 'Date_of_Journey', 'Source', 'Destination', 'Dep_Time',\n",
       "       'Total_Stops', 'Additional_Info'],\n",
       "      dtype='object')"
      ]
     },
     "execution_count": 183,
     "metadata": {},
     "output_type": "execute_result"
    }
   ],
   "source": [
    "X_train.columns"
   ]
  },
  {
   "cell_type": "code",
   "execution_count": 184,
   "metadata": {},
   "outputs": [],
   "source": [
    "def mod(Airline,Date_of_Journey, Source, Destination, Dep_Time,Total_Stops,Additional_Info):\n",
    "    x1 = [Airline,Date_of_Journey, Source, Destination, Dep_Time,Total_Stops,Additional_Info]\n",
    "    test=pd.read_excel(\"Flight_Test.xlsx\")\n",
    "    test=test.drop(['Duration'],axis=1)\n",
    "    test=test.drop(['Arrival_Time'],axis=1)\n",
    "    test=test.drop(['Route'],axis=1)\n",
    "    x1 =pd.DataFrame(np.array(x1).reshape(1,-1),columns=test.columns)\n",
    "    test = test.append(x1,ignore_index = True)\n",
    "    for x in test.columns:\n",
    "        test[x] = LabelEncoder().fit_transform(test[x])\n",
    "    x2 = test.iloc[-1,:]\n",
    "    pred =  model_GBfit.predict(np.array(x2).reshape(1,-1))\n",
    "    return pred\n"
   ]
  },
  {
   "cell_type": "code",
   "execution_count": 185,
   "metadata": {},
   "outputs": [
    {
     "name": "stdout",
     "output_type": "stream",
     "text": [
      "Running locally at: http://127.0.0.1:7860/\n",
      "To create a public link, set `share=True` in `launch()`.\n",
      "Interface loading below...\n"
     ]
    },
    {
     "data": {
      "text/html": [
       "\n",
       "        <iframe\n",
       "            width=\"1000\"\n",
       "            height=\"500\"\n",
       "            src=\"http://127.0.0.1:7860/\"\n",
       "            frameborder=\"0\"\n",
       "            allowfullscreen\n",
       "        ></iframe>\n",
       "        "
      ],
      "text/plain": [
       "<IPython.lib.display.IFrame at 0x143d83850>"
      ]
     },
     "metadata": {},
     "output_type": "display_data"
    },
    {
     "data": {
      "text/plain": [
       "(<Flask 'gradio.networking'>, 'http://127.0.0.1:7860/', None)"
      ]
     },
     "execution_count": 185,
     "metadata": {},
     "output_type": "execute_result"
    }
   ],
   "source": [
    "gd.Interface(mod, [Airline, Source, Destination, Date_of_Journey,Dep_Time,Total_Stops,Additional_Info],\n",
    "             gd.outputs.Textbox(label='Price')).launch()"
   ]
  },
  {
   "cell_type": "markdown",
   "metadata": {},
   "source": [
    "# Conclusion"
   ]
  },
  {
   "cell_type": "code",
   "execution_count": 201,
   "metadata": {},
   "outputs": [],
   "source": [
    "G_B_R = {'R2':gbm_r2,'RMSE':gbm_rmse}\n",
    "e_G_B = {'R2':xgbm_r2,'RMSE':xgbm_rmse}\n",
    "R_f  = {'R2':rf_r2,'RMSE':rf_rmse}\n",
    "D_t = {'R2':dt_r2,'RMSE':dt_rmse}\n",
    "ANN = {'R2':ann_r2,'RMSE':ann_rmse}"
   ]
  },
  {
   "cell_type": "code",
   "execution_count": 202,
   "metadata": {},
   "outputs": [
    {
     "data": {
      "text/html": [
       "<div>\n",
       "<style scoped>\n",
       "    .dataframe tbody tr th:only-of-type {\n",
       "        vertical-align: middle;\n",
       "    }\n",
       "\n",
       "    .dataframe tbody tr th {\n",
       "        vertical-align: top;\n",
       "    }\n",
       "\n",
       "    .dataframe thead th {\n",
       "        text-align: right;\n",
       "    }\n",
       "</style>\n",
       "<table border=\"1\" class=\"dataframe\">\n",
       "  <thead>\n",
       "    <tr style=\"text-align: right;\">\n",
       "      <th></th>\n",
       "      <th>R2</th>\n",
       "      <th>RMSE</th>\n",
       "    </tr>\n",
       "  </thead>\n",
       "  <tbody>\n",
       "    <tr>\n",
       "      <th>Gradient Boosting Regressor</th>\n",
       "      <td>0.901398</td>\n",
       "      <td>1272.484243</td>\n",
       "    </tr>\n",
       "    <tr>\n",
       "      <th>eXtreme Gradient Boosting Regressor</th>\n",
       "      <td>0.903382</td>\n",
       "      <td>1631.983624</td>\n",
       "    </tr>\n",
       "    <tr>\n",
       "      <th>Random forest Regressor</th>\n",
       "      <td>0.876799</td>\n",
       "      <td>1422.381811</td>\n",
       "    </tr>\n",
       "    <tr>\n",
       "      <th>Decision Tree Regressor</th>\n",
       "      <td>0.837814</td>\n",
       "      <td>1631.983624</td>\n",
       "    </tr>\n",
       "    <tr>\n",
       "      <th>Artifical Neural Network</th>\n",
       "      <td>0.796302</td>\n",
       "      <td>1816.210054</td>\n",
       "    </tr>\n",
       "  </tbody>\n",
       "</table>\n",
       "</div>"
      ],
      "text/plain": [
       "                                           R2         RMSE\n",
       "Gradient Boosting Regressor          0.901398  1272.484243\n",
       "eXtreme Gradient Boosting Regressor  0.903382  1631.983624\n",
       "Random forest Regressor              0.876799  1422.381811\n",
       "Decision Tree Regressor              0.837814  1631.983624\n",
       "Artifical Neural Network             0.796302  1816.210054"
      ]
     },
     "execution_count": 202,
     "metadata": {},
     "output_type": "execute_result"
    }
   ],
   "source": [
    "DataFrame = pd.DataFrame(data=[G_B_R,e_G_B,R_f,D_t,ANN],index=[\"Gradient Boosting Regressor\",\"eXtreme Gradient Boosting Regressor\",\"Random forest Regressor \",\n",
    "                                                                 \"Decision Tree Regressor\",\"Artifical Neural Network\"])\n",
    "# pd.options.display.precision = 2\n",
    "DataFrame"
   ]
  },
  {
   "cell_type": "code",
   "execution_count": null,
   "metadata": {},
   "outputs": [],
   "source": []
  }
 ],
 "metadata": {
  "kernelspec": {
   "display_name": "Python 3",
   "language": "python",
   "name": "python3"
  },
  "language_info": {
   "codemirror_mode": {
    "name": "ipython",
    "version": 3
   },
   "file_extension": ".py",
   "mimetype": "text/x-python",
   "name": "python",
   "nbconvert_exporter": "python",
   "pygments_lexer": "ipython3",
   "version": "3.7.10"
  }
 },
 "nbformat": 4,
 "nbformat_minor": 4
}
